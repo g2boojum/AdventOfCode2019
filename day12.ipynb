{
 "cells": [
  {
   "cell_type": "code",
   "execution_count": 1,
   "metadata": {},
   "outputs": [],
   "source": [
    "%matplotlib inline\n",
    "import pandas as pd\n",
    "import numpy as np\n",
    "import matplotlib.pyplot as plt\n",
    "import seaborn as sns\n",
    "params = {'figure.figsize': (10,7),\n",
    "          'axes.labelsize': 18,\n",
    "          'font.size': 18,\n",
    "          'xtick.labelsize': 16,\n",
    "          'ytick.labelsize': 16,\n",
    "          'legend.fontsize': 16}\n",
    "sns.set(palette='Set2', style='ticks', rc=params)"
   ]
  },
  {
   "cell_type": "code",
   "execution_count": 2,
   "metadata": {},
   "outputs": [],
   "source": [
    "puzzle_str = '''<x=-13, y=14, z=-7>\n",
    "<x=-18, y=9, z=0>\n",
    "<x=0, y=-3, z=-3>\n",
    "<x=-15, y=3, z=-13>'''"
   ]
  },
  {
   "cell_type": "markdown",
   "metadata": {},
   "source": [
    "## Part 1 ##"
   ]
  },
  {
   "cell_type": "code",
   "execution_count": 3,
   "metadata": {},
   "outputs": [],
   "source": [
    "test_str = '''<x=-1, y=0, z=2>\n",
    "<x=2, y=-10, z=-7>\n",
    "<x=4, y=-8, z=8>\n",
    "<x=3, y=5, z=-1>'''"
   ]
  },
  {
   "cell_type": "code",
   "execution_count": 4,
   "metadata": {},
   "outputs": [],
   "source": [
    "def parseinp(str):\n",
    "\tparticles = []\n",
    "\tfor line in str.split('\\n'):\n",
    "\t\txs, ys, zs = line[1:-1].split(',')\n",
    "\t\tparticle = {'x': int(xs.split('=')[1]),\n",
    "\t\t            'y': int(ys.split('=')[1]),\n",
    "\t\t            'z': int(zs.split('=')[1]),\n",
    "\t\t            'vx': 0, 'vy': 0, 'vz': 0}\n",
    "\t\tparticles.append(particle)\n",
    "\treturn particles"
   ]
  },
  {
   "cell_type": "code",
   "execution_count": 5,
   "metadata": {},
   "outputs": [],
   "source": [
    "def step(particles):\n",
    "\tn = len(particles)\n",
    "\tfor j in range(0, n-1):\n",
    "\t\tpj = particles[j]\n",
    "\t\tfor k in range(j, n):\n",
    "\t\t\tpk = particles[k]\n",
    "\t\t\txjk = pk['x'] - pj['x']\n",
    "\t\t\tpj['vx'] += np.sign(xjk)\n",
    "\t\t\tpk['vx'] -= np.sign(xjk)\n",
    "\t\t\tyjk = pk['y'] - pj['y']\n",
    "\t\t\tpj['vy'] += np.sign(yjk)\n",
    "\t\t\tpk['vy'] -= np.sign(yjk)\n",
    "\t\t\tzjk = pk['z'] - pj['z']\n",
    "\t\t\tpj['vz'] += np.sign(zjk)\n",
    "\t\t\tpk['vz'] -= np.sign(zjk)\n",
    "\tfor p in particles:\n",
    "\t\tp['x'] += p['vx']\n",
    "\t\tp['y'] += p['vy']\n",
    "\t\tp['z'] += p['vz']"
   ]
  },
  {
   "cell_type": "code",
   "execution_count": 6,
   "metadata": {},
   "outputs": [],
   "source": [
    "def energy(particles):\n",
    "\tE = 0\n",
    "\tfor p in particles:\n",
    "\t\tpe = np.abs(p['x']) + np.abs(p['y']) + np.abs(p['z'])\n",
    "\t\tke = np.abs(p['vx']) + np.abs(p['vy']) + np.abs(p['vz'])\n",
    "\t\tE += pe*ke\n",
    "\treturn E"
   ]
  },
  {
   "cell_type": "code",
   "execution_count": 7,
   "metadata": {},
   "outputs": [
    {
     "name": "stdout",
     "output_type": "stream",
     "text": [
      "[{'x': 2, 'y': 1, 'z': -3, 'vx': -3, 'vy': -2, 'vz': 1}, {'x': 1, 'y': -8, 'z': 0, 'vx': -1, 'vy': 1, 'vz': 3}, {'x': 3, 'y': -6, 'z': 1, 'vx': 3, 'vy': 2, 'vz': -3}, {'x': 2, 'y': 0, 'z': 4, 'vx': 1, 'vy': -1, 'vz': -1}]\n",
      "179\n"
     ]
    }
   ],
   "source": [
    "tstparticles = parseinp(test_str)\n",
    "for i in range(10):\n",
    "\tstep(tstparticles)\n",
    "print(tstparticles)\n",
    "print(energy(tstparticles))"
   ]
  },
  {
   "cell_type": "code",
   "execution_count": 8,
   "metadata": {},
   "outputs": [
    {
     "name": "stdout",
     "output_type": "stream",
     "text": [
      "Part 1: E = 7138\n"
     ]
    }
   ],
   "source": [
    "puzzle_particles = parseinp(puzzle_str)\n",
    "nsteps = 1000\n",
    "for i in range(nsteps):\n",
    "\tstep(puzzle_particles)\n",
    "E = energy(puzzle_particles)\n",
    "print(f'Part 1: E = {E}')"
   ]
  },
  {
   "cell_type": "markdown",
   "metadata": {},
   "source": [
    "## Part 2 ##"
   ]
  },
  {
   "cell_type": "markdown",
   "metadata": {},
   "source": [
    "The trajectories are going to be periodic. From the problem description, my guess is that the periods are incommensurate, so the period for the entire system to return to the original point in phase space is very, very long. We can compute that if we know the individual periods, though."
   ]
  },
  {
   "cell_type": "code",
   "execution_count": 9,
   "metadata": {},
   "outputs": [],
   "source": [
    "puzzle_particles = parseinp(puzzle_str)\n",
    "trajectory = {}\n",
    "nsteps = 200000\n",
    "for i in range(nsteps):\n",
    "    for i, p in enumerate(puzzle_particles):\n",
    "        for key in p:\n",
    "            newkey = ''.join((key, str(i)))\n",
    "            trajectory.setdefault(newkey, []).append(p[key])\n",
    "    step(puzzle_particles)\n"
   ]
  },
  {
   "cell_type": "code",
   "execution_count": 10,
   "metadata": {},
   "outputs": [
    {
     "data": {
      "text/html": [
       "<div>\n",
       "<style scoped>\n",
       "    .dataframe tbody tr th:only-of-type {\n",
       "        vertical-align: middle;\n",
       "    }\n",
       "\n",
       "    .dataframe tbody tr th {\n",
       "        vertical-align: top;\n",
       "    }\n",
       "\n",
       "    .dataframe thead th {\n",
       "        text-align: right;\n",
       "    }\n",
       "</style>\n",
       "<table border=\"1\" class=\"dataframe\">\n",
       "  <thead>\n",
       "    <tr style=\"text-align: right;\">\n",
       "      <th></th>\n",
       "      <th>x0</th>\n",
       "      <th>y0</th>\n",
       "      <th>z0</th>\n",
       "      <th>vx0</th>\n",
       "      <th>vy0</th>\n",
       "      <th>vz0</th>\n",
       "      <th>x1</th>\n",
       "      <th>y1</th>\n",
       "      <th>z1</th>\n",
       "      <th>vx1</th>\n",
       "      <th>...</th>\n",
       "      <th>vx2</th>\n",
       "      <th>vy2</th>\n",
       "      <th>vz2</th>\n",
       "      <th>x3</th>\n",
       "      <th>y3</th>\n",
       "      <th>z3</th>\n",
       "      <th>vx3</th>\n",
       "      <th>vy3</th>\n",
       "      <th>vz3</th>\n",
       "      <th>t</th>\n",
       "    </tr>\n",
       "  </thead>\n",
       "  <tbody>\n",
       "    <tr>\n",
       "      <th>0</th>\n",
       "      <td>-13</td>\n",
       "      <td>14</td>\n",
       "      <td>-7</td>\n",
       "      <td>0</td>\n",
       "      <td>0</td>\n",
       "      <td>0</td>\n",
       "      <td>-18</td>\n",
       "      <td>9</td>\n",
       "      <td>0</td>\n",
       "      <td>0</td>\n",
       "      <td>...</td>\n",
       "      <td>0</td>\n",
       "      <td>0</td>\n",
       "      <td>0</td>\n",
       "      <td>-15</td>\n",
       "      <td>3</td>\n",
       "      <td>-13</td>\n",
       "      <td>0</td>\n",
       "      <td>0</td>\n",
       "      <td>0</td>\n",
       "      <td>0</td>\n",
       "    </tr>\n",
       "    <tr>\n",
       "      <th>1</th>\n",
       "      <td>-14</td>\n",
       "      <td>11</td>\n",
       "      <td>-6</td>\n",
       "      <td>-1</td>\n",
       "      <td>-3</td>\n",
       "      <td>1</td>\n",
       "      <td>-15</td>\n",
       "      <td>8</td>\n",
       "      <td>-3</td>\n",
       "      <td>3</td>\n",
       "      <td>...</td>\n",
       "      <td>-3</td>\n",
       "      <td>3</td>\n",
       "      <td>-1</td>\n",
       "      <td>-14</td>\n",
       "      <td>4</td>\n",
       "      <td>-10</td>\n",
       "      <td>1</td>\n",
       "      <td>1</td>\n",
       "      <td>3</td>\n",
       "      <td>1</td>\n",
       "    </tr>\n",
       "    <tr>\n",
       "      <th>2</th>\n",
       "      <td>-15</td>\n",
       "      <td>5</td>\n",
       "      <td>-4</td>\n",
       "      <td>-1</td>\n",
       "      <td>-6</td>\n",
       "      <td>2</td>\n",
       "      <td>-9</td>\n",
       "      <td>6</td>\n",
       "      <td>-9</td>\n",
       "      <td>6</td>\n",
       "      <td>...</td>\n",
       "      <td>-6</td>\n",
       "      <td>6</td>\n",
       "      <td>-2</td>\n",
       "      <td>-13</td>\n",
       "      <td>6</td>\n",
       "      <td>-4</td>\n",
       "      <td>1</td>\n",
       "      <td>2</td>\n",
       "      <td>6</td>\n",
       "      <td>2</td>\n",
       "    </tr>\n",
       "    <tr>\n",
       "      <th>3</th>\n",
       "      <td>-13</td>\n",
       "      <td>2</td>\n",
       "      <td>-4</td>\n",
       "      <td>2</td>\n",
       "      <td>-3</td>\n",
       "      <td>0</td>\n",
       "      <td>-5</td>\n",
       "      <td>3</td>\n",
       "      <td>-12</td>\n",
       "      <td>4</td>\n",
       "      <td>...</td>\n",
       "      <td>-8</td>\n",
       "      <td>5</td>\n",
       "      <td>-1</td>\n",
       "      <td>-11</td>\n",
       "      <td>7</td>\n",
       "      <td>0</td>\n",
       "      <td>2</td>\n",
       "      <td>1</td>\n",
       "      <td>4</td>\n",
       "      <td>3</td>\n",
       "    </tr>\n",
       "    <tr>\n",
       "      <th>4</th>\n",
       "      <td>-10</td>\n",
       "      <td>2</td>\n",
       "      <td>-5</td>\n",
       "      <td>3</td>\n",
       "      <td>0</td>\n",
       "      <td>-1</td>\n",
       "      <td>-4</td>\n",
       "      <td>1</td>\n",
       "      <td>-12</td>\n",
       "      <td>1</td>\n",
       "      <td>...</td>\n",
       "      <td>-5</td>\n",
       "      <td>2</td>\n",
       "      <td>0</td>\n",
       "      <td>-10</td>\n",
       "      <td>7</td>\n",
       "      <td>1</td>\n",
       "      <td>1</td>\n",
       "      <td>0</td>\n",
       "      <td>1</td>\n",
       "      <td>4</td>\n",
       "    </tr>\n",
       "  </tbody>\n",
       "</table>\n",
       "<p>5 rows × 25 columns</p>\n",
       "</div>"
      ],
      "text/plain": [
       "   x0  y0  z0  vx0  vy0  vz0  x1  y1  z1  vx1  ...  vx2  vy2  vz2  x3  y3  z3  \\\n",
       "0 -13  14  -7    0    0    0 -18   9   0    0  ...    0    0    0 -15   3 -13   \n",
       "1 -14  11  -6   -1   -3    1 -15   8  -3    3  ...   -3    3   -1 -14   4 -10   \n",
       "2 -15   5  -4   -1   -6    2  -9   6  -9    6  ...   -6    6   -2 -13   6  -4   \n",
       "3 -13   2  -4    2   -3    0  -5   3 -12    4  ...   -8    5   -1 -11   7   0   \n",
       "4 -10   2  -5    3    0   -1  -4   1 -12    1  ...   -5    2    0 -10   7   1   \n",
       "\n",
       "   vx3  vy3  vz3  t  \n",
       "0    0    0    0  0  \n",
       "1    1    1    3  1  \n",
       "2    1    2    6  2  \n",
       "3    2    1    4  3  \n",
       "4    1    0    1  4  \n",
       "\n",
       "[5 rows x 25 columns]"
      ]
     },
     "execution_count": 10,
     "metadata": {},
     "output_type": "execute_result"
    }
   ],
   "source": [
    "df = pd.DataFrame.from_dict(trajectory)\n",
    "df['t'] = df.index\n",
    "df.head()"
   ]
  },
  {
   "cell_type": "code",
   "execution_count": 11,
   "metadata": {},
   "outputs": [
    {
     "data": {
      "text/plain": [
       "x0    -13\n",
       "y0     14\n",
       "z0     -7\n",
       "vx0     0\n",
       "vy0     0\n",
       "vz0     0\n",
       "x1    -18\n",
       "y1      9\n",
       "z1      0\n",
       "vx1     0\n",
       "vy1     0\n",
       "vz1     0\n",
       "x2      0\n",
       "y2     -3\n",
       "z2     -3\n",
       "vx2     0\n",
       "vy2     0\n",
       "vz2     0\n",
       "x3    -15\n",
       "y3      3\n",
       "z3    -13\n",
       "vx3     0\n",
       "vy3     0\n",
       "vz3     0\n",
       "t       0\n",
       "Name: 0, dtype: int64"
      ]
     },
     "execution_count": 11,
     "metadata": {},
     "output_type": "execute_result"
    }
   ],
   "source": [
    "df.iloc[0]"
   ]
  },
  {
   "cell_type": "code",
   "execution_count": 12,
   "metadata": {},
   "outputs": [
    {
     "data": {
      "text/plain": [
       "Text(0.5, 0, 'step')"
      ]
     },
     "execution_count": 12,
     "metadata": {},
     "output_type": "execute_result"
    },
    {
     "data": {
      "image/png": "[encoded data removed]",
      "text/plain": [
       "<Figure size 720x504 with 4 Axes>"
      ]
     },
     "metadata": {},
     "output_type": "display_data"
    }
   ],
   "source": [
    "fig, ax = plt.subplots(4, 1, sharex=True)\n",
    "for i in range(4):\n",
    "    xkey = f'x{i}'\n",
    "    vkey = f'vx{i}'\n",
    "    ax[i].plot(df['t'], df[xkey]-df[xkey].iloc[0], '-', label=xkey)\n",
    "    ax[i].plot(df['t'], df[vkey]-df[vkey].iloc[0], '-', label=vkey)\n",
    "    ax[i].legend(loc='best')\n",
    "plt.xlabel('step')\n",
    "#plt.axis([0, 2000, -450, 300])"
   ]
  },
  {
   "cell_type": "code",
   "execution_count": 13,
   "metadata": {},
   "outputs": [
    {
     "data": {
      "text/html": [
       "<div>\n",
       "<style scoped>\n",
       "    .dataframe tbody tr th:only-of-type {\n",
       "        vertical-align: middle;\n",
       "    }\n",
       "\n",
       "    .dataframe tbody tr th {\n",
       "        vertical-align: top;\n",
       "    }\n",
       "\n",
       "    .dataframe thead th {\n",
       "        text-align: right;\n",
       "    }\n",
       "</style>\n",
       "<table border=\"1\" class=\"dataframe\">\n",
       "  <thead>\n",
       "    <tr style=\"text-align: right;\">\n",
       "      <th></th>\n",
       "      <th>t</th>\n",
       "      <th>x0</th>\n",
       "      <th>vx0</th>\n",
       "    </tr>\n",
       "  </thead>\n",
       "  <tbody>\n",
       "    <tr>\n",
       "      <th>0</th>\n",
       "      <td>0</td>\n",
       "      <td>-13</td>\n",
       "      <td>0</td>\n",
       "    </tr>\n",
       "    <tr>\n",
       "      <th>1083</th>\n",
       "      <td>1083</td>\n",
       "      <td>-13</td>\n",
       "      <td>0</td>\n",
       "    </tr>\n",
       "    <tr>\n",
       "      <th>1236</th>\n",
       "      <td>1236</td>\n",
       "      <td>-13</td>\n",
       "      <td>0</td>\n",
       "    </tr>\n",
       "    <tr>\n",
       "      <th>61207</th>\n",
       "      <td>61207</td>\n",
       "      <td>-13</td>\n",
       "      <td>0</td>\n",
       "    </tr>\n",
       "    <tr>\n",
       "      <th>170407</th>\n",
       "      <td>170407</td>\n",
       "      <td>-13</td>\n",
       "      <td>0</td>\n",
       "    </tr>\n",
       "  </tbody>\n",
       "</table>\n",
       "</div>"
      ],
      "text/plain": [
       "             t  x0  vx0\n",
       "0            0 -13    0\n",
       "1083      1083 -13    0\n",
       "1236      1236 -13    0\n",
       "61207    61207 -13    0\n",
       "170407  170407 -13    0"
      ]
     },
     "execution_count": 13,
     "metadata": {},
     "output_type": "execute_result"
    }
   ],
   "source": [
    "df[(df['x0'] == df['x0'].iloc[0]) & (df['vx0'] == 0)][['t', 'x0', 'vx0']]"
   ]
  },
  {
   "cell_type": "code",
   "execution_count": 14,
   "metadata": {},
   "outputs": [
    {
     "name": "stdout",
     "output_type": "stream",
     "text": [
      "             t  x0  vx0\n",
      "0            0 -13    0\n",
      "1083      1083 -13    0\n",
      "1236      1236 -13    0\n",
      "61207    61207 -13    0\n",
      "170407  170407 -13    0\n",
      "             t  x1  vx1\n",
      "0            0 -18    0\n",
      "9            9 -18    0\n",
      "1693      1693 -18    0\n",
      "22160    22160 -18    0\n",
      "41415    41415 -18    0\n",
      "190199  190199 -18    0\n",
      "             t  x2  vx2\n",
      "0            0   0    0\n",
      "27011    27011   0    0\n",
      "33555    33555   0    0\n",
      "57479    57479   0    0\n",
      "174135  174135   0    0\n",
      "198059  198059   0    0\n",
      "             t  x3  vx3\n",
      "0            0 -15    0\n",
      "27253    27253 -15    0\n",
      "34827    34827 -15    0\n",
      "196787  196787 -15    0\n"
     ]
    }
   ],
   "source": [
    "for i in range(4):\n",
    "    xkey = f'x{i}'\n",
    "    vkey = f'vx{i}'\n",
    "    print(df[(df[xkey] == df[xkey].iloc[0]) & (df[vkey] == 0)][['t', xkey, vkey]])"
   ]
  },
  {
   "cell_type": "markdown",
   "metadata": {},
   "source": [
    "Looks like the individual trajectories are beats, with a very long period before all four moons come back to place. I certainly don't want to store that entire trajectory. Okay, brute force and looking. Once all four moons have their original x coordinates and 0 velocity, that's the point where the trajectory will repeat. Each x, y, z trajectory is independent."
   ]
  },
  {
   "cell_type": "code",
   "execution_count": 15,
   "metadata": {},
   "outputs": [
    {
     "name": "stdout",
     "output_type": "stream",
     "text": [
      "[{'x': -13, 'y': 14, 'z': -7, 'vx': 0, 'vy': 0, 'vz': 0}, {'x': -18, 'y': 9, 'z': 0, 'vx': 0, 'vy': 0, 'vz': 0}, {'x': 0, 'y': -3, 'z': -3, 'vx': 0, 'vy': 0, 'vz': 0}, {'x': -15, 'y': 3, 'z': -13, 'vx': 0, 'vy': 0, 'vz': 0}]\n"
     ]
    }
   ],
   "source": [
    "puzzle_particles = parseinp(puzzle_str)\n",
    "origin = puzzle_particles.copy()\n",
    "print(origin)\n",
    "xreturn = []\n",
    "yreturn = []\n",
    "zreturn = []\n",
    "j = 0\n",
    "while True:\n",
    "    j += 1\n",
    "    if i > 10000000:\n",
    "        break\n",
    "    step(puzzle_particles)\n",
    "    xdiff = ydiff = zdiff = 0\n",
    "    vx = vy = vz = 0\n",
    "    for i in range(4):\n",
    "        xkey = f'x{i}'\n",
    "        ykey = f'y{i}'\n",
    "        zkey = f'z{i}'\n",
    "        xdiff += np.abs(puzzle_particles[i]['x'] - origin[i]['x'])\n",
    "        ydiff += np.abs(puzzle_particles[i]['y'] - origin[i]['y'])\n",
    "        zdiff += np.abs(puzzle_particles[i]['z'] - origin[i]['z'])\n",
    "        vx += np.abs(puzzle_particles[i]['vx'])\n",
    "        vy += np.abs(puzzle_particles[i]['vy'])\n",
    "        vz += np.abs(puzzle_particles[i]['vz'])\n",
    "    if (xdiff == 0) and (vx == 0):\n",
    "        xreturn.append(j)\n",
    "    if (ydiff == 0) and (vy == 0):\n",
    "        yreturn.append(j)\n",
    "    if (zdiff == 0) and (vz == 0):\n",
    "        zreturn.append(j)\n",
    "    if xreturn and yreturn and zreturn:\n",
    "        break"
   ]
  },
  {
   "cell_type": "code",
   "execution_count": 16,
   "metadata": {},
   "outputs": [
    {
     "name": "stdout",
     "output_type": "stream",
     "text": [
      "115807\n"
     ]
    }
   ],
   "source": [
    "print(j)"
   ]
  },
  {
   "cell_type": "code",
   "execution_count": 17,
   "metadata": {},
   "outputs": [
    {
     "name": "stdout",
     "output_type": "stream",
     "text": [
      "[115807]\n"
     ]
    }
   ],
   "source": [
    "print(xreturn)"
   ]
  },
  {
   "cell_type": "code",
   "execution_count": 18,
   "metadata": {},
   "outputs": [
    {
     "name": "stdout",
     "output_type": "stream",
     "text": [
      "[96526]\n"
     ]
    }
   ],
   "source": [
    "print(yreturn)"
   ]
  },
  {
   "cell_type": "code",
   "execution_count": 19,
   "metadata": {},
   "outputs": [
    {
     "name": "stdout",
     "output_type": "stream",
     "text": [
      "[51178, 102356]\n"
     ]
    }
   ],
   "source": [
    "print(zreturn)"
   ]
  },
  {
   "cell_type": "code",
   "execution_count": 20,
   "metadata": {},
   "outputs": [
    {
     "name": "stdout",
     "output_type": "stream",
     "text": [
      "572087463375796\n"
     ]
    }
   ],
   "source": [
    "print(xreturn[0]*yreturn[0]*zreturn[0])"
   ]
  },
  {
   "cell_type": "code",
   "execution_count": null,
   "metadata": {},
   "outputs": [],
   "source": []
  }
 ],
 "metadata": {
  "kernelspec": {
   "display_name": "Python 3",
   "language": "python",
   "name": "python3"
  },
  "language_info": {
   "codemirror_mode": {
    "name": "ipython",
    "version": 3
   },
   "file_extension": ".py",
   "mimetype": "text/x-python",
   "name": "python",
   "nbconvert_exporter": "python",
   "pygments_lexer": "ipython3",
   "version": "3.7.3"
  }
 },
 "nbformat": 4,
 "nbformat_minor": 4
}
