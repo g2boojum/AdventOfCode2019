{
 "cells": [
  {
   "cell_type": "code",
   "execution_count": 1,
   "metadata": {},
   "outputs": [],
   "source": [
    "import math"
   ]
  },
  {
   "cell_type": "code",
   "execution_count": 2,
   "metadata": {},
   "outputs": [
    {
     "data": {
      "text/plain": [
       "'1 VRVDQ => 2 FXGW'"
      ]
     },
     "execution_count": 2,
     "metadata": {},
     "output_type": "execute_result"
    }
   ],
   "source": [
    "with open('day14.input') as fp:\n",
    "    puzzle_lines = fp.read().split('\\n')\n",
    "puzzle_lines = puzzle_lines[:-1]\n",
    "puzzle_lines[-1]"
   ]
  },
  {
   "cell_type": "markdown",
   "metadata": {},
   "source": [
    "## Part 1 ##"
   ]
  },
  {
   "cell_type": "code",
   "execution_count": 3,
   "metadata": {},
   "outputs": [],
   "source": [
    "test0_lines = '''10 ORE => 10 A\n",
    "1 ORE => 1 B\n",
    "7 A, 1 B => 1 C\n",
    "7 A, 1 C => 1 D\n",
    "7 A, 1 D => 1 E\n",
    "7 A, 1 E => 1 FUEL'''.split('\\n')\n",
    "test1_lines = '''9 ORE => 2 A\n",
    "8 ORE => 3 B\n",
    "7 ORE => 5 C\n",
    "3 A, 4 B => 1 AB\n",
    "5 B, 7 C => 1 BC\n",
    "4 C, 1 A => 1 CA\n",
    "2 AB, 3 BC, 4 CA => 1 FUEL'''.split('\\n')\n",
    "test2_lines = '''157 ORE => 5 NZVS\n",
    "165 ORE => 6 DCFZ\n",
    "44 XJWVT, 5 KHKGT, 1 QDVJ, 29 NZVS, 9 GPVTF, 48 HKGWZ => 1 FUEL\n",
    "12 HKGWZ, 1 GPVTF, 8 PSHF => 9 QDVJ\n",
    "179 ORE => 7 PSHF\n",
    "177 ORE => 5 HKGWZ\n",
    "7 DCFZ, 7 PSHF => 2 XJWVT\n",
    "165 ORE => 2 GPVTF\n",
    "3 DCFZ, 7 NZVS, 5 HKGWZ, 10 PSHF => 8 KHKGT'''.split('\\n')\n",
    "test3_lines = '''2 VPVL, 7 FWMGM, 2 CXFTF, 11 MNCFX => 1 STKFG\n",
    "17 NVRVD, 3 JNWZP => 8 VPVL\n",
    "53 STKFG, 6 MNCFX, 46 VJHF, 81 HVMC, 68 CXFTF, 25 GNMV => 1 FUEL\n",
    "22 VJHF, 37 MNCFX => 5 FWMGM\n",
    "139 ORE => 4 NVRVD\n",
    "144 ORE => 7 JNWZP\n",
    "5 MNCFX, 7 RFSQX, 2 FWMGM, 2 VPVL, 19 CXFTF => 3 HVMC\n",
    "5 VJHF, 7 MNCFX, 9 VPVL, 37 CXFTF => 6 GNMV\n",
    "145 ORE => 6 MNCFX\n",
    "1 NVRVD => 8 CXFTF\n",
    "1 VJHF, 6 MNCFX => 4 RFSQX\n",
    "176 ORE => 6 VJHF'''.split('\\n')\n",
    "test4_lines = '''171 ORE => 8 CNZTR\n",
    "7 ZLQW, 3 BMBT, 9 XCVML, 26 XMNCP, 1 WPTQ, 2 MZWV, 1 RJRHP => 4 PLWSL\n",
    "114 ORE => 4 BHXH\n",
    "14 VRPVC => 6 BMBT\n",
    "6 BHXH, 18 KTJDG, 12 WPTQ, 7 PLWSL, 31 FHTLT, 37 ZDVW => 1 FUEL\n",
    "6 WPTQ, 2 BMBT, 8 ZLQW, 18 KTJDG, 1 XMNCP, 6 MZWV, 1 RJRHP => 6 FHTLT\n",
    "15 XDBXC, 2 LTCX, 1 VRPVC => 6 ZLQW\n",
    "13 WPTQ, 10 LTCX, 3 RJRHP, 14 XMNCP, 2 MZWV, 1 ZLQW => 1 ZDVW\n",
    "5 BMBT => 4 WPTQ\n",
    "189 ORE => 9 KTJDG\n",
    "1 MZWV, 17 XDBXC, 3 XCVML => 2 XMNCP\n",
    "12 VRPVC, 27 CNZTR => 2 XDBXC\n",
    "15 KTJDG, 12 BHXH => 5 XCVML\n",
    "3 BHXH, 2 VRPVC => 7 MZWV\n",
    "121 ORE => 7 VRPVC\n",
    "7 XCVML => 6 RJRHP\n",
    "5 BHXH, 4 VRPVC => 5 LTCX'''.split('\\n')\n",
    "tests = (test0_lines, test1_lines, test2_lines, test3_lines, test4_lines)\n",
    "test_results = (31, 165, 13312, 180697, 2210736)"
   ]
  },
  {
   "cell_type": "code",
   "execution_count": 4,
   "metadata": {},
   "outputs": [],
   "source": [
    "def stoich(reactions):\n",
    "    s = {}\n",
    "    for reaction in reactions:\n",
    "        reactants, products = reaction.split('=>')\n",
    "        pterms = products.strip().split()\n",
    "        prod = pterms[1]\n",
    "        num = int(pterms[0])\n",
    "        if prod in s:\n",
    "            raise ValueError(f'Already seen {prod} as a product')\n",
    "        s[prod] = {'num': num}\n",
    "        rterms = reactants.strip().split(',')\n",
    "        r = {}\n",
    "        for term in rterms:\n",
    "            n, i = term.split()\n",
    "            n = int(n)\n",
    "            i = i.strip()\n",
    "            r[i] = n\n",
    "        s[prod]['reactants'] = r\n",
    "    return s"
   ]
  },
  {
   "cell_type": "code",
   "execution_count": 5,
   "metadata": {},
   "outputs": [],
   "source": [
    "def rxns_top_level(rxns):\n",
    "    rxn_products = set(rxns.keys())\n",
    "    all_reactants = []\n",
    "    for prod in rxns:\n",
    "        all_reactants.extend(rxns[prod]['reactants'].keys())\n",
    "    top_level = rxn_products - set(all_reactants)\n",
    "    return top_level\n",
    "    \n",
    "def replace(comps, rxns):\n",
    "    top_level = rxns_top_level(rxns)\n",
    "    replacement = top_level.intersection(comps.keys())\n",
    "    while replacement:\n",
    "        c = replacement.pop()\n",
    "        nc = comps[c]\n",
    "        rxn_num, reactants = rxns[c]['num'], rxns[c]['reactants']\n",
    "        num_rx = math.ceil(nc/rxn_num)\n",
    "        for r, v in reactants.items():\n",
    "            if r in comps:\n",
    "                comps[r] += v*num_rx\n",
    "            else:\n",
    "                comps[r] = v*num_rx\n",
    "        del rxns[c]\n",
    "        del comps[c]\n",
    "        top_level = rxns_top_level(rxns)\n",
    "        replacement = top_level.intersection(comps.keys())\n",
    "    return comps   "
   ]
  },
  {
   "cell_type": "code",
   "execution_count": 6,
   "metadata": {},
   "outputs": [
    {
     "name": "stdout",
     "output_type": "stream",
     "text": [
      "{'ORE': 31}\n"
     ]
    }
   ],
   "source": [
    "rxns = stoich(test0_lines)\n",
    "comps = {'FUEL': 1}\n",
    "comps = replace(comps, rxns)\n",
    "print(comps)"
   ]
  },
  {
   "cell_type": "code",
   "execution_count": 7,
   "metadata": {},
   "outputs": [
    {
     "name": "stdout",
     "output_type": "stream",
     "text": [
      "0 True\n",
      "1 True\n",
      "2 True\n",
      "3 True\n",
      "4 True\n"
     ]
    }
   ],
   "source": [
    "for i, test in enumerate(tests):\n",
    "    rxns = stoich(test)\n",
    "    comps = {'FUEL': 1}\n",
    "    comps = replace(comps, rxns)\n",
    "    print(i, comps['ORE'] == test_results[i])"
   ]
  },
  {
   "cell_type": "code",
   "execution_count": 8,
   "metadata": {},
   "outputs": [
    {
     "name": "stdout",
     "output_type": "stream",
     "text": [
      "{'ORE': 1185296}\n"
     ]
    }
   ],
   "source": [
    "rxns = stoich(puzzle_lines)\n",
    "comps= {'FUEL': 1}\n",
    "comps = replace(comps, rxns)\n",
    "print(comps)"
   ]
  },
  {
   "cell_type": "code",
   "execution_count": 9,
   "metadata": {},
   "outputs": [
    {
     "data": {
      "text/plain": [
       "75120192"
      ]
     },
     "execution_count": 9,
     "metadata": {},
     "output_type": "execute_result"
    }
   ],
   "source": [
    "1000000000000//13312"
   ]
  },
  {
   "cell_type": "markdown",
   "metadata": {},
   "source": [
    "## Part 2 ##"
   ]
  },
  {
   "cell_type": "code",
   "execution_count": 11,
   "metadata": {},
   "outputs": [],
   "source": [
    "from fractions import Fraction"
   ]
  },
  {
   "cell_type": "code",
   "execution_count": 16,
   "metadata": {},
   "outputs": [],
   "source": [
    "def stoich2(reactions):\n",
    "    s = {}\n",
    "    for reaction in reactions:\n",
    "        reactants, products = reaction.split('=>')\n",
    "        pterms = products.strip().split()\n",
    "        prod = pterms[1]\n",
    "        num = int(pterms[0])\n",
    "        if prod in s:\n",
    "            raise ValueError(f'Already seen {prod} as a product')\n",
    "        s[prod] = {'num': num}\n",
    "        rterms = reactants.strip().split(',')\n",
    "        r = {}\n",
    "        for term in rterms:\n",
    "            n, i = term.split()\n",
    "            n = int(n)\n",
    "            i = i.strip()\n",
    "            r[i] = Fraction(n, num)\n",
    "        s[prod]['reactants'] = r\n",
    "        s[prod]['num'] = 1\n",
    "    return s"
   ]
  },
  {
   "cell_type": "code",
   "execution_count": 17,
   "metadata": {},
   "outputs": [
    {
     "data": {
      "text/plain": [
       "{'A': {'num': 1, 'reactants': {'ORE': Fraction(1, 1)}},\n",
       " 'B': {'num': 1, 'reactants': {'ORE': Fraction(1, 1)}},\n",
       " 'C': {'num': 1, 'reactants': {'A': Fraction(7, 1), 'B': Fraction(1, 1)}},\n",
       " 'D': {'num': 1, 'reactants': {'A': Fraction(7, 1), 'C': Fraction(1, 1)}},\n",
       " 'E': {'num': 1, 'reactants': {'A': Fraction(7, 1), 'D': Fraction(1, 1)}},\n",
       " 'FUEL': {'num': 1, 'reactants': {'A': Fraction(7, 1), 'E': Fraction(1, 1)}}}"
      ]
     },
     "execution_count": 17,
     "metadata": {},
     "output_type": "execute_result"
    }
   ],
   "source": [
    "rxns = stoich2(test0_lines)\n",
    "rxns"
   ]
  },
  {
   "cell_type": "code",
   "execution_count": 31,
   "metadata": {},
   "outputs": [],
   "source": [
    "def replace2(comps, rxns):\n",
    "    top_level = rxns_top_level(rxns)\n",
    "    replacement = top_level.intersection(comps.keys())\n",
    "    while replacement:\n",
    "        c = replacement.pop()\n",
    "        nc = Fraction(comps[c])\n",
    "        rxn_num, reactants = Fraction(rxns[c]['num']), rxns[c]['reactants']\n",
    "        num_rx = nc/rxn_num\n",
    "        for r, v in reactants.items():\n",
    "            if r in comps:\n",
    "                comps[r] += v*num_rx\n",
    "            else:\n",
    "                comps[r] = v*num_rx\n",
    "        del rxns[c]\n",
    "        del comps[c]\n",
    "        top_level = rxns_top_level(rxns)\n",
    "        replacement = top_level.intersection(comps.keys())\n",
    "    return comps   "
   ]
  },
  {
   "cell_type": "code",
   "execution_count": 32,
   "metadata": {},
   "outputs": [
    {
     "data": {
      "text/plain": [
       "True"
      ]
     },
     "execution_count": 32,
     "metadata": {},
     "output_type": "execute_result"
    }
   ],
   "source": [
    "rxns = stoich2(test2_lines)\n",
    "comps= {'FUEL': 1}\n",
    "comps = replace2(comps, rxns)\n",
    "82892753 == 1000000000000//comps['ORE']"
   ]
  },
  {
   "cell_type": "code",
   "execution_count": 33,
   "metadata": {},
   "outputs": [
    {
     "data": {
      "text/plain": [
       "True"
      ]
     },
     "execution_count": 33,
     "metadata": {},
     "output_type": "execute_result"
    }
   ],
   "source": [
    "rxns = stoich2(test3_lines)\n",
    "comps= {'FUEL': 1}\n",
    "comps = replace2(comps, rxns)\n",
    "5586022  == 1000000000000//comps['ORE']"
   ]
  },
  {
   "cell_type": "code",
   "execution_count": 34,
   "metadata": {},
   "outputs": [
    {
     "data": {
      "text/plain": [
       "True"
      ]
     },
     "execution_count": 34,
     "metadata": {},
     "output_type": "execute_result"
    }
   ],
   "source": [
    "rxns = stoich2(test4_lines)\n",
    "comps= {'FUEL': 1}\n",
    "comps = replace2(comps, rxns)\n",
    "460664   == 1000000000000//comps['ORE']"
   ]
  },
  {
   "cell_type": "code",
   "execution_count": 38,
   "metadata": {},
   "outputs": [
    {
     "name": "stdout",
     "output_type": "stream",
     "text": [
      "{'ORE': Fraction(22142387454504941, 30481920000)}\n",
      "1376632\n"
     ]
    }
   ],
   "source": [
    "rxns = stoich2(puzzle_lines)\n",
    "comps = {'FUEL': 1}\n",
    "comps = replace2(comps, rxns)\n",
    "print(comps)\n",
    "print(int(1000000000000//comps['ORE']))"
   ]
  },
  {
   "cell_type": "code",
   "execution_count": 36,
   "metadata": {},
   "outputs": [
    {
     "data": {
      "text/plain": [
       "726410.5231725869"
      ]
     },
     "execution_count": 36,
     "metadata": {},
     "output_type": "execute_result"
    }
   ],
   "source": []
  },
  {
   "cell_type": "code",
   "execution_count": 40,
   "metadata": {},
   "outputs": [
    {
     "name": "stdout",
     "output_type": "stream",
     "text": [
      "{'ORE': 999999649614}\n"
     ]
    }
   ],
   "source": [
    "rxns = stoich(puzzle_lines)\n",
    "comps= {'FUEL': 1376631}\n",
    "comps = replace(comps, rxns)\n",
    "print(comps)"
   ]
  },
  {
   "cell_type": "code",
   "execution_count": null,
   "metadata": {},
   "outputs": [],
   "source": []
  }
 ],
 "metadata": {
  "kernelspec": {
   "display_name": "Python 3",
   "language": "python",
   "name": "python3"
  },
  "language_info": {
   "codemirror_mode": {
    "name": "ipython",
    "version": 3
   },
   "file_extension": ".py",
   "mimetype": "text/x-python",
   "name": "python",
   "nbconvert_exporter": "python",
   "pygments_lexer": "ipython3",
   "version": "3.7.3"
  }
 },
 "nbformat": 4,
 "nbformat_minor": 4
}
