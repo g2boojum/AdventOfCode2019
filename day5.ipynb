{
 "cells": [
  {
   "cell_type": "code",
   "execution_count": 1,
   "metadata": {},
   "outputs": [
    {
     "data": {
      "text/plain": [
       "[3, 225, 1, 225, 6]"
      ]
     },
     "execution_count": 1,
     "metadata": {},
     "output_type": "execute_result"
    }
   ],
   "source": [
    "with open('day5.input') as fp:\n",
    "    data = fp.read()\n",
    "data = [int(s) for s in data.strip().split(',')]\n",
    "data[:5]"
   ]
  },
  {
   "cell_type": "markdown",
   "metadata": {},
   "source": [
    "## Part 1 ##"
   ]
  },
  {
   "cell_type": "code",
   "execution_count": 2,
   "metadata": {},
   "outputs": [],
   "source": [
    "codes = {1: 'add', 2: 'multiply', 3: 'input', 4: 'output', 99: 'halt'}\n",
    "modes = {0: 'memory', 1: 'value'}\n",
    "mp = {1: 3, 2: 3, 3: 1, 4: 1, 99: 0} # mode : num parameters"
   ]
  },
  {
   "cell_type": "code",
   "execution_count": 3,
   "metadata": {},
   "outputs": [],
   "source": [
    "def parse_opcode(opcode):\n",
    "    \"\"\"Given a numerica opcode value, return the code, and the parameter mode for each parameter.\"\"\"\n",
    "    s = str(opcode)\n",
    "    if len(s) <= 2:\n",
    "        # no parameter modes, so all parameters are 0\n",
    "        return opcode, [0 for i in range(mp[opcode])]\n",
    "    modestr, code = reversed(s[:-2]), int(s[-2:])\n",
    "    modes = [int(c) for c in modestr]\n",
    "    for i in range(len(modes), mp[code]):\n",
    "        modes.append(0)\n",
    "    return code, modes"
   ]
  },
  {
   "cell_type": "code",
   "execution_count": 4,
   "metadata": {},
   "outputs": [
    {
     "data": {
      "text/plain": [
       "((2, [0, 1, 0]), (1, [1, 1, 0]))"
      ]
     },
     "execution_count": 4,
     "metadata": {},
     "output_type": "execute_result"
    }
   ],
   "source": [
    "parse_opcode(1002), parse_opcode(1101)"
   ]
  },
  {
   "cell_type": "code",
   "execution_count": 5,
   "metadata": {},
   "outputs": [],
   "source": [
    "def part1(inp, d):\n",
    "    outputs = []\n",
    "    pos = 0\n",
    "    while True:\n",
    "        code, modes = parse_opcode(d[pos])\n",
    "        if code == 99:\n",
    "            break\n",
    "        elif code == 1:\n",
    "            i1, i2, o = d[pos+1:pos+4]\n",
    "            if modes[0] == 0:\n",
    "                i1 = d[i1]\n",
    "            if modes[1] == 0:\n",
    "                i2 = d[i2]\n",
    "            if modes[2] != 0:\n",
    "                raise ValueError(f'output mode must be 0, but is {modes[2]}')\n",
    "            d[o] = i1 + i2\n",
    "            pos += 4\n",
    "        elif code == 2:\n",
    "            i1, i2, o = d[pos+1:pos+4]\n",
    "            if modes[0] == 0:\n",
    "                i1 = d[i1]\n",
    "            if modes[1] == 0:\n",
    "                i2 = d[i2]\n",
    "            if modes[2] != 0:\n",
    "                raise ValueError(f'output mode must be 0, but is {modes[2]}')\n",
    "            d[o] = i1 * i2\n",
    "            pos += 4\n",
    "        elif code == 3:\n",
    "            if modes[0] != 0:\n",
    "                raise ValueError(f'output mode must be 0, but is {modes[0]}')\n",
    "            d[d[pos+1]] = inp\n",
    "            pos += 2\n",
    "        elif code == 4:\n",
    "            i = d[pos+1]\n",
    "            if modes[0] == 0:\n",
    "                i = d[i]\n",
    "            outputs.append(i)\n",
    "            pos += 2\n",
    "        else:\n",
    "            raise ValueError(f'Invalid opcode: {code}')\n",
    "    return outputs"
   ]
  },
  {
   "cell_type": "code",
   "execution_count": 6,
   "metadata": {},
   "outputs": [
    {
     "data": {
      "text/plain": [
       "[0, 0, 0, 0, 0, 0, 0, 0, 0, 13346482]"
      ]
     },
     "execution_count": 6,
     "metadata": {},
     "output_type": "execute_result"
    }
   ],
   "source": [
    "part1(1, data.copy())"
   ]
  },
  {
   "cell_type": "markdown",
   "metadata": {},
   "source": [
    "## Part 2 ##"
   ]
  },
  {
   "cell_type": "code",
   "execution_count": 7,
   "metadata": {},
   "outputs": [],
   "source": [
    "mp = {1: 3, 2: 3, 3: 1, 4: 1,\n",
    "      5: 2, 6: 2, 7: 3, 8: 3,\n",
    "      99: 0} # mode : num parameters"
   ]
  },
  {
   "cell_type": "code",
   "execution_count": 8,
   "metadata": {},
   "outputs": [],
   "source": [
    "def part2(inp, d):\n",
    "    outputs = []\n",
    "    pos = 0\n",
    "    while True:\n",
    "        code, modes = parse_opcode(d[pos])\n",
    "        if code == 99:\n",
    "            break\n",
    "        elif code == 1:\n",
    "            i1, i2, o = d[pos+1:pos+4]\n",
    "            if modes[0] == 0:\n",
    "                i1 = d[i1]\n",
    "            if modes[1] == 0:\n",
    "                i2 = d[i2]\n",
    "            if modes[2] != 0:\n",
    "                raise ValueError(f'output mode must be 0, but is {modes[2]}')\n",
    "            d[o] = i1 + i2\n",
    "            pos += 4\n",
    "        elif code == 2:\n",
    "            i1, i2, o = d[pos+1:pos+4]\n",
    "            if modes[0] == 0:\n",
    "                i1 = d[i1]\n",
    "            if modes[1] == 0:\n",
    "                i2 = d[i2]\n",
    "            if modes[2] != 0:\n",
    "                raise ValueError(f'output mode must be 0, but is {modes[2]}')\n",
    "            d[o] = i1 * i2\n",
    "            pos += 4\n",
    "        elif code == 3:\n",
    "            if modes[0] != 0:\n",
    "                raise ValueError(f'output mode must be 0, but is {modes[0]}')\n",
    "            d[d[pos+1]] = inp\n",
    "            pos += 2\n",
    "        elif code == 4:\n",
    "            i = d[pos+1]\n",
    "            if modes[0] == 0:\n",
    "                i = d[i]\n",
    "            outputs.append(i)\n",
    "            pos += 2\n",
    "        elif code == 5:\n",
    "            i1, i2 = d[pos+1], d[pos+2]\n",
    "            if modes[0] == 0:\n",
    "                i1 = d[i1]\n",
    "            if modes[1] == 0:\n",
    "                i2 = d[i2]\n",
    "            if bool(i1):\n",
    "                pos = i2\n",
    "            else:\n",
    "                pos += 3\n",
    "        elif code == 6:\n",
    "            i1, i2 = d[pos+1], d[pos+2]\n",
    "            if modes[0] == 0:\n",
    "                i1 = d[i1]\n",
    "            if modes[1] == 0:\n",
    "                i2 = d[i2]\n",
    "            if not bool(i1):\n",
    "                pos = i2\n",
    "            else:\n",
    "                pos += 3\n",
    "        elif code == 7:\n",
    "            i1, i2, o = d[pos+1:pos+4]\n",
    "            if modes[0] == 0:\n",
    "                i1 = d[i1]\n",
    "            if modes[1] == 0:\n",
    "                i2 = d[i2]\n",
    "            d[o] = int(i1 < i2)\n",
    "            pos += 4\n",
    "        elif code == 8:\n",
    "            i1, i2, o = d[pos+1:pos+4]\n",
    "            if modes[0] == 0:\n",
    "                i1 = d[i1]\n",
    "            if modes[1] == 0:\n",
    "                i2 = d[i2]\n",
    "            d[o] = int(i1 == i2)\n",
    "            pos += 4\n",
    "        else:\n",
    "            raise ValueError(f'Invalid opcode: {code}')\n",
    "    return outputs"
   ]
  },
  {
   "cell_type": "code",
   "execution_count": 11,
   "metadata": {},
   "outputs": [
    {
     "data": {
      "text/plain": [
       "([1], [0])"
      ]
     },
     "execution_count": 11,
     "metadata": {},
     "output_type": "execute_result"
    }
   ],
   "source": [
    "part2(8, [3,9,8,9,10,9,4,9,99,-1,8]), part2(10, [3,9,8,9,10,9,4,9,99,-1,8])"
   ]
  },
  {
   "cell_type": "code",
   "execution_count": 12,
   "metadata": {},
   "outputs": [
    {
     "data": {
      "text/plain": [
       "([1], [0])"
      ]
     },
     "execution_count": 12,
     "metadata": {},
     "output_type": "execute_result"
    }
   ],
   "source": [
    "part2(5, [3,9,7,9,10,9,4,9,99,-1,8]), part2(10, [3,9,7,9,10,9,4,9,99,-1,8])"
   ]
  },
  {
   "cell_type": "code",
   "execution_count": 13,
   "metadata": {},
   "outputs": [
    {
     "data": {
      "text/plain": [
       "([1], [0])"
      ]
     },
     "execution_count": 13,
     "metadata": {},
     "output_type": "execute_result"
    }
   ],
   "source": [
    "part2(8, [3,3,1108,-1,8,3,4,3,99]), part2(10, [3,3,1108,-1,8,3,4,3,99])"
   ]
  },
  {
   "cell_type": "code",
   "execution_count": 14,
   "metadata": {},
   "outputs": [
    {
     "data": {
      "text/plain": [
       "([1], [0])"
      ]
     },
     "execution_count": 14,
     "metadata": {},
     "output_type": "execute_result"
    }
   ],
   "source": [
    "part2(5, [3,3,1107,-1,8,3,4,3,99]), part2(8, [3,3,1107,-1,8,3,4,3,99])"
   ]
  },
  {
   "cell_type": "code",
   "execution_count": 15,
   "metadata": {},
   "outputs": [
    {
     "data": {
      "text/plain": [
       "[12111395]"
      ]
     },
     "execution_count": 15,
     "metadata": {},
     "output_type": "execute_result"
    }
   ],
   "source": [
    "part2(5, data.copy())"
   ]
  },
  {
   "cell_type": "code",
   "execution_count": null,
   "metadata": {},
   "outputs": [],
   "source": []
  }
 ],
 "metadata": {
  "kernelspec": {
   "display_name": "Python 3",
   "language": "python",
   "name": "python3"
  },
  "language_info": {
   "codemirror_mode": {
    "name": "ipython",
    "version": 3
   },
   "file_extension": ".py",
   "mimetype": "text/x-python",
   "name": "python",
   "nbconvert_exporter": "python",
   "pygments_lexer": "ipython3",
   "version": "3.7.3"
  }
 },
 "nbformat": 4,
 "nbformat_minor": 4
}
