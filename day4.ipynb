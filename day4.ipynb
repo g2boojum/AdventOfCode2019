{
 "cells": [
  {
   "cell_type": "code",
   "execution_count": 1,
   "metadata": {},
   "outputs": [],
   "source": [
    "from collections import Counter"
   ]
  },
  {
   "cell_type": "code",
   "execution_count": 2,
   "metadata": {},
   "outputs": [],
   "source": [
    "puzzle_min, puzzle_max = (273025, 767253)"
   ]
  },
  {
   "cell_type": "markdown",
   "metadata": {},
   "source": [
    "## Part 1 ##"
   ]
  },
  {
   "cell_type": "code",
   "execution_count": 3,
   "metadata": {},
   "outputs": [],
   "source": [
    "def is_valid(num):\n",
    "    \"\"\"A valid number should be the same after sorting the characters from smallest digit to largest,\n",
    "    and it needs to have a repeated digit.\n",
    "    \"\"\"\n",
    "    s = str(num)\n",
    "    if ''.join(sorted(s)) != s:\n",
    "        return False\n",
    "    c = s[0]\n",
    "    for c2 in s[1:]:\n",
    "        if c2 == c:\n",
    "            return True\n",
    "        c = c2\n",
    "    return False    "
   ]
  },
  {
   "cell_type": "code",
   "execution_count": 4,
   "metadata": {},
   "outputs": [
    {
     "name": "stdout",
     "output_type": "stream",
     "text": [
      "111111 True\n",
      "223450 False\n",
      "123789 False\n"
     ]
    }
   ],
   "source": [
    "for i in (111111, 223450, 123789):\n",
    "    print(i, is_valid(i))"
   ]
  },
  {
   "cell_type": "code",
   "execution_count": 5,
   "metadata": {},
   "outputs": [
    {
     "data": {
      "text/plain": [
       "910"
      ]
     },
     "execution_count": 5,
     "metadata": {},
     "output_type": "execute_result"
    }
   ],
   "source": [
    "len([i for i in range(puzzle_min, puzzle_max+1) if is_valid(i)])"
   ]
  },
  {
   "cell_type": "markdown",
   "metadata": {},
   "source": [
    "## Part 2 ##"
   ]
  },
  {
   "cell_type": "code",
   "execution_count": 6,
   "metadata": {},
   "outputs": [],
   "source": [
    "def is_valid2(num):\n",
    "    \"Same as is_valid, but discounts a repeated character that is immediately repeated more than once\"\n",
    "    s = str(num)\n",
    "    if ''.join(sorted(s)) != s:\n",
    "        return False\n",
    "    cntr = Counter()\n",
    "    c = s[0]\n",
    "    for c2 in s[1:]:\n",
    "        if c2 == c:\n",
    "            cntr[c2] += 1\n",
    "        c = c2\n",
    "    if 1 in cntr.values():\n",
    "        return True\n",
    "    return False    "
   ]
  },
  {
   "cell_type": "code",
   "execution_count": 7,
   "metadata": {},
   "outputs": [
    {
     "name": "stdout",
     "output_type": "stream",
     "text": [
      "112233 True\n",
      "123444 False\n",
      "111122 True\n",
      "277888 True\n"
     ]
    }
   ],
   "source": [
    "for i in (112233, 123444, 111122, 277888):\n",
    "    print(i, is_valid2(i))"
   ]
  },
  {
   "cell_type": "code",
   "execution_count": 8,
   "metadata": {},
   "outputs": [
    {
     "data": {
      "text/plain": [
       "598"
      ]
     },
     "execution_count": 8,
     "metadata": {},
     "output_type": "execute_result"
    }
   ],
   "source": [
    "len([i for i in range(puzzle_min, puzzle_max+1) if is_valid2(i)])"
   ]
  },
  {
   "cell_type": "code",
   "execution_count": null,
   "metadata": {},
   "outputs": [],
   "source": []
  }
 ],
 "metadata": {
  "kernelspec": {
   "display_name": "Python 3",
   "language": "python",
   "name": "python3"
  },
  "language_info": {
   "codemirror_mode": {
    "name": "ipython",
    "version": 3
   },
   "file_extension": ".py",
   "mimetype": "text/x-python",
   "name": "python",
   "nbconvert_exporter": "python",
   "pygments_lexer": "ipython3",
   "version": "3.7.3"
  }
 },
 "nbformat": 4,
 "nbformat_minor": 4
}
