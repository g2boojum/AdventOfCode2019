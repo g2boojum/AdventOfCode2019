{
 "cells": [
  {
   "cell_type": "code",
   "execution_count": 1,
   "metadata": {},
   "outputs": [],
   "source": [
    "with open('day3.input') as fp:\n",
    "    data = fp.readlines()\n",
    "wire1 = data[0].strip().split(',')\n",
    "wire2 = data[1].strip().split(',')"
   ]
  },
  {
   "cell_type": "markdown",
   "metadata": {},
   "source": [
    "## Part 1 ##"
   ]
  },
  {
   "cell_type": "code",
   "execution_count": 2,
   "metadata": {},
   "outputs": [],
   "source": [
    "testwire0a = 'R8,U5,L5,D3'.split(',')\n",
    "testwire0b = 'U7,R6,D4,L4'.split(',')\n",
    "testwire1a = 'R75,D30,R83,U83,L12,D49,R71,U7,L72'.split(',')\n",
    "testwire1b = 'U62,R66,U55,R34,D71,R55,D58,R83'.split(',')\n",
    "testwire2a = 'R98,U47,R26,D63,R33,U87,L62,D20,R33,U53,R51'.split(',')\n",
    "testwire2b = 'U98,R91,D20,R16,D67,R40,U7,R15,U6,R7'.split(',')"
   ]
  },
  {
   "cell_type": "code",
   "execution_count": 3,
   "metadata": {},
   "outputs": [],
   "source": [
    "def walkpath(wire):\n",
    "    pos = (0, 0)\n",
    "    points = {pos}\n",
    "    for segment in wire:\n",
    "        d = segment[0]\n",
    "        steps = int(segment[1:])\n",
    "        if d == 'R':\n",
    "            for i in range(steps):\n",
    "                pos = (pos[0]+1, pos[1])\n",
    "                points.add(pos)\n",
    "        elif d == 'L':\n",
    "            for i in range(steps):\n",
    "                pos = (pos[0]-1, pos[1])\n",
    "                points.add(pos)\n",
    "        elif d == 'U':\n",
    "            for i in range(steps):\n",
    "                pos = (pos[0], pos[1]+1)\n",
    "                points.add(pos)\n",
    "        elif d == 'D':\n",
    "            for i in range(steps):\n",
    "                pos = (pos[0], pos[1]-1)\n",
    "                points.add(pos)\n",
    "        else:\n",
    "            raise ValueError(f'Bad direction: {d}')\n",
    "    return points\n",
    "def taxicab_dist(pt):\n",
    "    return abs(pt[0]) + abs(pt[1])"
   ]
  },
  {
   "cell_type": "code",
   "execution_count": 4,
   "metadata": {},
   "outputs": [
    {
     "data": {
      "text/plain": [
       "{(3, 3), (6, 5)}"
      ]
     },
     "execution_count": 4,
     "metadata": {},
     "output_type": "execute_result"
    }
   ],
   "source": [
    "tst0apts = walkpath(testwire0a)\n",
    "tst0bpts = walkpath(testwire0b)\n",
    "intersections = tst0apts & tst0bpts\n",
    "intersections.remove((0,0))\n",
    "intersections"
   ]
  },
  {
   "cell_type": "code",
   "execution_count": 5,
   "metadata": {},
   "outputs": [
    {
     "data": {
      "text/plain": [
       "True"
      ]
     },
     "execution_count": 5,
     "metadata": {},
     "output_type": "execute_result"
    }
   ],
   "source": [
    "6 == min(taxicab_dist(x) for x in intersections)"
   ]
  },
  {
   "cell_type": "code",
   "execution_count": 6,
   "metadata": {},
   "outputs": [
    {
     "data": {
      "text/plain": [
       "True"
      ]
     },
     "execution_count": 6,
     "metadata": {},
     "output_type": "execute_result"
    }
   ],
   "source": [
    "tst1apts = walkpath(testwire1a)\n",
    "tst1bpts = walkpath(testwire1b)\n",
    "intersections = tst1apts & tst1bpts\n",
    "intersections.remove((0,0))\n",
    "159 == min(taxicab_dist(x) for x in intersections)"
   ]
  },
  {
   "cell_type": "code",
   "execution_count": 7,
   "metadata": {},
   "outputs": [
    {
     "data": {
      "text/plain": [
       "True"
      ]
     },
     "execution_count": 7,
     "metadata": {},
     "output_type": "execute_result"
    }
   ],
   "source": [
    "tst2apts = walkpath(testwire2a)\n",
    "tst2bpts = walkpath(testwire2b)\n",
    "intersections = tst2apts & tst2bpts\n",
    "intersections.remove((0,0))\n",
    "135 == min(taxicab_dist(x) for x in intersections)"
   ]
  },
  {
   "cell_type": "code",
   "execution_count": 8,
   "metadata": {},
   "outputs": [
    {
     "data": {
      "text/plain": [
       "1337"
      ]
     },
     "execution_count": 8,
     "metadata": {},
     "output_type": "execute_result"
    }
   ],
   "source": [
    "wire1pts = walkpath(wire1)\n",
    "wire2pts = walkpath(wire2)\n",
    "intersections = wire1pts & wire2pts\n",
    "intersections.remove((0,0))\n",
    "min(taxicab_dist(x) for x in intersections)"
   ]
  },
  {
   "cell_type": "markdown",
   "metadata": {},
   "source": [
    "## Part 2 ##"
   ]
  },
  {
   "cell_type": "code",
   "execution_count": 9,
   "metadata": {},
   "outputs": [],
   "source": [
    "def walkpath2(wire):\n",
    "    pos = (0, 0)\n",
    "    points = [pos]\n",
    "    for segment in wire:\n",
    "        d = segment[0]\n",
    "        steps = int(segment[1:])\n",
    "        if d == 'R':\n",
    "            for i in range(steps):\n",
    "                pos = (pos[0]+1, pos[1])\n",
    "                points.append(pos)\n",
    "        elif d == 'L':\n",
    "            for i in range(steps):\n",
    "                pos = (pos[0]-1, pos[1])\n",
    "                points.append(pos)\n",
    "        elif d == 'U':\n",
    "            for i in range(steps):\n",
    "                pos = (pos[0], pos[1]+1)\n",
    "                points.append(pos)\n",
    "        elif d == 'D':\n",
    "            for i in range(steps):\n",
    "                pos = (pos[0], pos[1]-1)\n",
    "                points.append(pos)\n",
    "        else:\n",
    "            raise ValueError(f'Bad direction: {d}')\n",
    "    return points"
   ]
  },
  {
   "cell_type": "code",
   "execution_count": 10,
   "metadata": {},
   "outputs": [
    {
     "data": {
      "text/plain": [
       "{(3, 3), (6, 5)}"
      ]
     },
     "execution_count": 10,
     "metadata": {},
     "output_type": "execute_result"
    }
   ],
   "source": [
    "tst0apts = walkpath2(testwire0a)\n",
    "tst0bpts = walkpath2(testwire0b)\n",
    "intersections = set(tst0apts) & set(tst0bpts)\n",
    "intersections.remove((0,0))\n",
    "intersections"
   ]
  },
  {
   "cell_type": "code",
   "execution_count": 11,
   "metadata": {},
   "outputs": [
    {
     "name": "stdout",
     "output_type": "stream",
     "text": [
      "(3, 3) 40\n",
      "(6, 5) 30\n"
     ]
    }
   ],
   "source": [
    "for x in intersections:\n",
    "    stepsa = tst0apts.index(x)\n",
    "    stepsb = tst0bpts.index(x)\n",
    "    print(x, stepsa+stepsb)"
   ]
  },
  {
   "cell_type": "code",
   "execution_count": 12,
   "metadata": {},
   "outputs": [
    {
     "data": {
      "text/plain": [
       "65356"
      ]
     },
     "execution_count": 12,
     "metadata": {},
     "output_type": "execute_result"
    }
   ],
   "source": [
    "wire1pts = walkpath2(wire1)\n",
    "wire2pts = walkpath2(wire2)\n",
    "intersections = set(wire1pts) & set(wire2pts)\n",
    "intersections.remove((0,0))\n",
    "minsteps = None\n",
    "for x in intersections:\n",
    "    steps1 = wire1pts.index(x)\n",
    "    steps2 = wire2pts.index(x)\n",
    "    totsteps = steps1 + steps2\n",
    "    if minsteps is None:\n",
    "        minsteps = totsteps\n",
    "        continue\n",
    "    if totsteps < minsteps:\n",
    "        minsteps = totsteps\n",
    "minsteps"
   ]
  },
  {
   "cell_type": "code",
   "execution_count": null,
   "metadata": {},
   "outputs": [],
   "source": []
  },
  {
   "cell_type": "code",
   "execution_count": null,
   "metadata": {},
   "outputs": [],
   "source": []
  }
 ],
 "metadata": {
  "kernelspec": {
   "display_name": "Python 3",
   "language": "python",
   "name": "python3"
  },
  "language_info": {
   "codemirror_mode": {
    "name": "ipython",
    "version": 3
   },
   "file_extension": ".py",
   "mimetype": "text/x-python",
   "name": "python",
   "nbconvert_exporter": "python",
   "pygments_lexer": "ipython3",
   "version": "3.7.3"
  }
 },
 "nbformat": 4,
 "nbformat_minor": 4
}
