{
 "cells": [
  {
   "cell_type": "code",
   "execution_count": 1,
   "metadata": {},
   "outputs": [],
   "source": [
    "import collections"
   ]
  },
  {
   "cell_type": "code",
   "execution_count": 2,
   "metadata": {},
   "outputs": [
    {
     "data": {
      "text/plain": [
       "['BYZ)LMV', '2CT)GV2', '6RK)HK7', 'RJJ)MVV', 'YFQ)4LC']"
      ]
     },
     "execution_count": 2,
     "metadata": {},
     "output_type": "execute_result"
    }
   ],
   "source": [
    "with open('day6.input') as fp:\n",
    "    lines = fp.readlines()\n",
    "data = [line.strip() for line in lines]\n",
    "data[:5]"
   ]
  },
  {
   "cell_type": "code",
   "execution_count": 3,
   "metadata": {},
   "outputs": [
    {
     "data": {
      "text/plain": [
       "['COM)B', 'B)C', 'C)D', 'D)E', 'E)F', 'B)G', 'G)H', 'D)I', 'E)J', 'J)K', 'K)L']"
      ]
     },
     "execution_count": 3,
     "metadata": {},
     "output_type": "execute_result"
    }
   ],
   "source": [
    "testdata = 'COM)B B)C C)D D)E E)F B)G G)H D)I E)J J)K K)L'.split()\n",
    "testdata"
   ]
  },
  {
   "cell_type": "markdown",
   "metadata": {},
   "source": [
    "## Part 1 ##"
   ]
  },
  {
   "cell_type": "code",
   "execution_count": 4,
   "metadata": {},
   "outputs": [],
   "source": [
    "def connections(orbits):\n",
    "    c = collections.defaultdict(list)\n",
    "    for term in orbits:\n",
    "        a, b = term.split(')')\n",
    "        c[a].append(b)\n",
    "    children = []\n",
    "    for v in c.values():\n",
    "        children.extend(v)\n",
    "    root = set(c.keys()) - set(children)\n",
    "    if len(root) != 1:\n",
    "        raise ValueError(f'Multiple roots of the tree: {root}')\n",
    "    return list(root)[0], c"
   ]
  },
  {
   "cell_type": "code",
   "execution_count": 5,
   "metadata": {},
   "outputs": [
    {
     "data": {
      "text/plain": [
       "('COM',\n",
       " defaultdict(list,\n",
       "             {'COM': ['B'],\n",
       "              'B': ['C', 'G'],\n",
       "              'C': ['D'],\n",
       "              'D': ['E', 'I'],\n",
       "              'E': ['F', 'J'],\n",
       "              'G': ['H'],\n",
       "              'J': ['K'],\n",
       "              'K': ['L']}))"
      ]
     },
     "execution_count": 5,
     "metadata": {},
     "output_type": "execute_result"
    }
   ],
   "source": [
    "root, edges = connections(testdata)\n",
    "root, edges"
   ]
  },
  {
   "cell_type": "code",
   "execution_count": 6,
   "metadata": {},
   "outputs": [],
   "source": [
    "def walk(root, edges, prn=False):\n",
    "    lnodes = [root]\n",
    "    pos = 0\n",
    "    while lnodes:\n",
    "        pos += 1\n",
    "        rnodes = []\n",
    "        for lnode in lnodes:\n",
    "            if lnode in edges:\n",
    "                rnodes.extend(edges[lnode])\n",
    "        if prn:\n",
    "            print(pos, rnodes)\n",
    "        yield pos*len(rnodes)\n",
    "        lnodes = rnodes        "
   ]
  },
  {
   "cell_type": "code",
   "execution_count": 7,
   "metadata": {},
   "outputs": [
    {
     "name": "stdout",
     "output_type": "stream",
     "text": [
      "1 ['B']\n",
      "2 ['C', 'G']\n",
      "3 ['D', 'H']\n",
      "4 ['E', 'I']\n",
      "5 ['F', 'J']\n",
      "6 ['K']\n",
      "7 ['L']\n",
      "8 []\n"
     ]
    },
    {
     "data": {
      "text/plain": [
       "True"
      ]
     },
     "execution_count": 7,
     "metadata": {},
     "output_type": "execute_result"
    }
   ],
   "source": [
    "42 == sum(walk('COM', edges, True))"
   ]
  },
  {
   "cell_type": "code",
   "execution_count": 8,
   "metadata": {},
   "outputs": [
    {
     "data": {
      "text/plain": [
       "'COM'"
      ]
     },
     "execution_count": 8,
     "metadata": {},
     "output_type": "execute_result"
    }
   ],
   "source": [
    "puzzle_root, puzzle_edges = connections(data)\n",
    "puzzle_root"
   ]
  },
  {
   "cell_type": "code",
   "execution_count": 9,
   "metadata": {},
   "outputs": [
    {
     "data": {
      "text/plain": [
       "312697"
      ]
     },
     "execution_count": 9,
     "metadata": {},
     "output_type": "execute_result"
    }
   ],
   "source": [
    "sum(walk('COM', puzzle_edges))"
   ]
  },
  {
   "cell_type": "markdown",
   "metadata": {},
   "source": [
    "## Part 2 ##"
   ]
  },
  {
   "cell_type": "code",
   "execution_count": 10,
   "metadata": {},
   "outputs": [],
   "source": [
    "testdata2 = 'COM)B B)C C)D D)E E)F B)G G)H D)I E)J J)K K)L K)YOU I)SAN'.split()"
   ]
  },
  {
   "cell_type": "code",
   "execution_count": 11,
   "metadata": {},
   "outputs": [],
   "source": [
    "def bidirectional_connections(orbits):\n",
    "    c = collections.defaultdict(list)\n",
    "    for term in orbits:\n",
    "        a, b = term.split(')')\n",
    "        c[a].append(b)\n",
    "        c[b].append(a)\n",
    "    return c"
   ]
  },
  {
   "cell_type": "code",
   "execution_count": 12,
   "metadata": {},
   "outputs": [
    {
     "data": {
      "text/plain": [
       "defaultdict(list,\n",
       "            {'COM': ['B'],\n",
       "             'B': ['COM', 'C', 'G'],\n",
       "             'C': ['B', 'D'],\n",
       "             'D': ['C', 'E', 'I'],\n",
       "             'E': ['D', 'F', 'J'],\n",
       "             'F': ['E'],\n",
       "             'G': ['B', 'H'],\n",
       "             'H': ['G'],\n",
       "             'I': ['D', 'SAN'],\n",
       "             'J': ['E', 'K'],\n",
       "             'K': ['J', 'L', 'YOU'],\n",
       "             'L': ['K'],\n",
       "             'YOU': ['K'],\n",
       "             'SAN': ['I']})"
      ]
     },
     "execution_count": 12,
     "metadata": {},
     "output_type": "execute_result"
    }
   ],
   "source": [
    "test2conns = bidirectional_connections(testdata2)\n",
    "test2conns"
   ]
  },
  {
   "cell_type": "code",
   "execution_count": 13,
   "metadata": {},
   "outputs": [],
   "source": [
    "def remove_node(node, c):\n",
    "    del c[node]\n",
    "    for key in c:\n",
    "        if node in c[key]:\n",
    "            c[key].remove(node)"
   ]
  },
  {
   "cell_type": "code",
   "execution_count": 14,
   "metadata": {},
   "outputs": [],
   "source": [
    "def endpoints(c):\n",
    "    \"\"\"Find the point 'YOU' is orbiting, and the point 'SAN' is orbiting.\n",
    "       Also, remove 'YOU' and 'SAN' from the bidirectional connection graph c.\n",
    "    \"\"\"\n",
    "    start = c['YOU'][0]\n",
    "    end = c['SAN'][0]\n",
    "    remove_node('YOU', c)\n",
    "    remove_node('SAN', c)\n",
    "    return start, end"
   ]
  },
  {
   "cell_type": "code",
   "execution_count": 15,
   "metadata": {},
   "outputs": [],
   "source": [
    "def transition(conns):\n",
    "    \"\"\"Find the smallest number of steps from start to end. I do this by finding all nodes 1 away from the starting position.\n",
    "       Then remove all of the starting nodes from the graph (to eliminate backsteps), and set the list of 1-away nodes as the\n",
    "       now current nodes. Iterate until the end point is in the list of current nodes.\"\"\"\n",
    "    c = conns.copy()\n",
    "    start, end = endpoints(c)\n",
    "    cur = [start]\n",
    "    dist = 0\n",
    "    while end not in cur:\n",
    "        new = []\n",
    "        for node in cur:\n",
    "            new.extend(c[node])\n",
    "            remove_node(node, c)\n",
    "        dist += 1\n",
    "        cur = new\n",
    "    return dist"
   ]
  },
  {
   "cell_type": "code",
   "execution_count": 16,
   "metadata": {},
   "outputs": [
    {
     "data": {
      "text/plain": [
       "True"
      ]
     },
     "execution_count": 16,
     "metadata": {},
     "output_type": "execute_result"
    }
   ],
   "source": [
    "4 == transition(test2conns)"
   ]
  },
  {
   "cell_type": "code",
   "execution_count": 17,
   "metadata": {},
   "outputs": [
    {
     "data": {
      "text/plain": [
       "466"
      ]
     },
     "execution_count": 17,
     "metadata": {},
     "output_type": "execute_result"
    }
   ],
   "source": [
    "transition(bidirectional_connections(data))"
   ]
  },
  {
   "cell_type": "code",
   "execution_count": null,
   "metadata": {},
   "outputs": [],
   "source": []
  }
 ],
 "metadata": {
  "kernelspec": {
   "display_name": "Python 3",
   "language": "python",
   "name": "python3"
  },
  "language_info": {
   "codemirror_mode": {
    "name": "ipython",
    "version": 3
   },
   "file_extension": ".py",
   "mimetype": "text/x-python",
   "name": "python",
   "nbconvert_exporter": "python",
   "pygments_lexer": "ipython3",
   "version": "3.7.3"
  }
 },
 "nbformat": 4,
 "nbformat_minor": 4
}
