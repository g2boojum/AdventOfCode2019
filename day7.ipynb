{
 "cells": [
  {
   "cell_type": "code",
   "execution_count": 1,
   "metadata": {},
   "outputs": [],
   "source": [
    "import itertools"
   ]
  },
  {
   "cell_type": "code",
   "execution_count": 2,
   "metadata": {},
   "outputs": [
    {
     "data": {
      "text/plain": [
       "[3, 8, 1001, 8, 10]"
      ]
     },
     "execution_count": 2,
     "metadata": {},
     "output_type": "execute_result"
    }
   ],
   "source": [
    "with open('day7.input') as fp:\n",
    "    puzzle_prog = [int(s) for s in fp.read().split(',')]\n",
    "puzzle_prog[:5]"
   ]
  },
  {
   "cell_type": "code",
   "execution_count": 3,
   "metadata": {},
   "outputs": [],
   "source": [
    "test1 = {'signal': 43210, 'phases': [4,3,2,1,0],\n",
    "         'prog': [3,15,3,16,1002,16,10,16,1,16,15,15,4,15,99,0,0]}\n",
    "test2 = {'signal': 54321, 'phases': [0,1,2,3,4],\n",
    "         'prog': [3,23,3,24,1002,24,10,24,1002,23,-1,23,101,5,23,23,1,24,23,23,4,23,99,0,0]}\n",
    "test3 = {'signal': 65210, 'phases': [1,0,4,3,2],\n",
    "         'prog': [3,31,3,32,1002,32,10,32,1001,31,-2,31,1007,31,0,33,1002,33,7,33,1,33,31,31,1,32,31,31,4,31,99,0,0,0]}"
   ]
  },
  {
   "cell_type": "markdown",
   "metadata": {},
   "source": [
    "## Part 1 ##"
   ]
  },
  {
   "cell_type": "code",
   "execution_count": 4,
   "metadata": {},
   "outputs": [],
   "source": [
    "mp = {1: 3, 2: 3, 3: 1, 4: 1,\n",
    "      5: 2, 6: 2, 7: 3, 8: 3,\n",
    "      99: 0} # mode : num parameters\n",
    "\n",
    "def parse_opcode(opcode):\n",
    "    \"\"\"Given a numerica opcode value, return the code, and the parameter mode for each parameter.\"\"\"\n",
    "    s = str(opcode)\n",
    "    if len(s) <= 2:\n",
    "        # no parameter modes, so all parameters are 0\n",
    "        return opcode, [0 for i in range(mp[opcode])]\n",
    "    modestr, code = reversed(s[:-2]), int(s[-2:])\n",
    "    modes = [int(c) for c in modestr]\n",
    "    for i in range(len(modes), mp[code]):\n",
    "        modes.append(0)\n",
    "    return code, modes"
   ]
  },
  {
   "cell_type": "code",
   "execution_count": 5,
   "metadata": {},
   "outputs": [],
   "source": [
    "def intcode_run(inp, d):\n",
    "    outputs = []\n",
    "    pos = 0\n",
    "    while True:\n",
    "        code, modes = parse_opcode(d[pos])\n",
    "        if code == 99:\n",
    "            break\n",
    "        elif code == 1:\n",
    "            i1, i2, o = d[pos+1:pos+4]\n",
    "            if modes[0] == 0:\n",
    "                i1 = d[i1]\n",
    "            if modes[1] == 0:\n",
    "                i2 = d[i2]\n",
    "            if modes[2] != 0:\n",
    "                raise ValueError(f'output mode must be 0, but is {modes[2]}')\n",
    "            d[o] = i1 + i2\n",
    "            pos += 4\n",
    "        elif code == 2:\n",
    "            i1, i2, o = d[pos+1:pos+4]\n",
    "            if modes[0] == 0:\n",
    "                i1 = d[i1]\n",
    "            if modes[1] == 0:\n",
    "                i2 = d[i2]\n",
    "            if modes[2] != 0:\n",
    "                raise ValueError(f'output mode must be 0, but is {modes[2]}')\n",
    "            d[o] = i1 * i2\n",
    "            pos += 4\n",
    "        elif code == 3:\n",
    "            if modes[0] != 0:\n",
    "                raise ValueError(f'output mode must be 0, but is {modes[0]}')\n",
    "            d[d[pos+1]] = inp.pop()\n",
    "            pos += 2\n",
    "        elif code == 4:\n",
    "            i = d[pos+1]\n",
    "            if modes[0] == 0:\n",
    "                i = d[i]\n",
    "            outputs.append(i)\n",
    "            pos += 2\n",
    "        elif code == 5:\n",
    "            i1, i2 = d[pos+1], d[pos+2]\n",
    "            if modes[0] == 0:\n",
    "                i1 = d[i1]\n",
    "            if modes[1] == 0:\n",
    "                i2 = d[i2]\n",
    "            if bool(i1):\n",
    "                pos = i2\n",
    "            else:\n",
    "                pos += 3\n",
    "        elif code == 6:\n",
    "            i1, i2 = d[pos+1], d[pos+2]\n",
    "            if modes[0] == 0:\n",
    "                i1 = d[i1]\n",
    "            if modes[1] == 0:\n",
    "                i2 = d[i2]\n",
    "            if not bool(i1):\n",
    "                pos = i2\n",
    "            else:\n",
    "                pos += 3\n",
    "        elif code == 7:\n",
    "            i1, i2, o = d[pos+1:pos+4]\n",
    "            if modes[0] == 0:\n",
    "                i1 = d[i1]\n",
    "            if modes[1] == 0:\n",
    "                i2 = d[i2]\n",
    "            d[o] = int(i1 < i2)\n",
    "            pos += 4\n",
    "        elif code == 8:\n",
    "            i1, i2, o = d[pos+1:pos+4]\n",
    "            if modes[0] == 0:\n",
    "                i1 = d[i1]\n",
    "            if modes[1] == 0:\n",
    "                i2 = d[i2]\n",
    "            d[o] = int(i1 == i2)\n",
    "            pos += 4\n",
    "        else:\n",
    "            raise ValueError(f'Invalid opcode: {code}')\n",
    "    return outputs"
   ]
  },
  {
   "cell_type": "code",
   "execution_count": 6,
   "metadata": {},
   "outputs": [],
   "source": [
    "def amp_pipeline(phases, prog):\n",
    "    out = 0\n",
    "    for i in range(5):\n",
    "        inp_vec = [out, phases[i]]\n",
    "        out = intcode_run(inp_vec, prog.copy())[0]\n",
    "    return out"
   ]
  },
  {
   "cell_type": "code",
   "execution_count": 7,
   "metadata": {},
   "outputs": [
    {
     "name": "stdout",
     "output_type": "stream",
     "text": [
      "True\n",
      "True\n",
      "True\n"
     ]
    }
   ],
   "source": [
    "for tst in (test1, test2, test3):\n",
    "    print(tst['signal'] == amp_pipeline(tst['phases'], tst['prog']))"
   ]
  },
  {
   "cell_type": "code",
   "execution_count": 8,
   "metadata": {},
   "outputs": [
    {
     "data": {
      "text/plain": [
       "43210"
      ]
     },
     "execution_count": 8,
     "metadata": {},
     "output_type": "execute_result"
    }
   ],
   "source": [
    "amp_pipeline(test1['phases'], test1['prog'])"
   ]
  },
  {
   "cell_type": "code",
   "execution_count": 9,
   "metadata": {},
   "outputs": [
    {
     "data": {
      "text/plain": [
       "366376"
      ]
     },
     "execution_count": 9,
     "metadata": {},
     "output_type": "execute_result"
    }
   ],
   "source": [
    "max(amp_pipeline(phases, puzzle_prog) for phases in itertools.permutations([0, 1, 2, 3, 4]))"
   ]
  },
  {
   "cell_type": "markdown",
   "metadata": {},
   "source": [
    "## Part 2 ##"
   ]
  },
  {
   "cell_type": "code",
   "execution_count": 10,
   "metadata": {},
   "outputs": [
    {
     "ename": "IndexError",
     "evalue": "pop from empty list",
     "output_type": "error",
     "traceback": [
      "\u001b[0;31m---------------------------------------------------------------------------\u001b[0m",
      "\u001b[0;31mIndexError\u001b[0m                                Traceback (most recent call last)",
      "\u001b[0;32m<ipython-input-10-d0dcbae6827c>\u001b[0m in \u001b[0;36m<module>\u001b[0;34m\u001b[0m\n\u001b[0;32m----> 1\u001b[0;31m \u001b[0mintcode_run\u001b[0m\u001b[0;34m(\u001b[0m\u001b[0;34m[\u001b[0m\u001b[0;36m112\u001b[0m\u001b[0;34m,\u001b[0m \u001b[0;36m5\u001b[0m\u001b[0;34m]\u001b[0m\u001b[0;34m,\u001b[0m \u001b[0mpuzzle_prog\u001b[0m\u001b[0;34m.\u001b[0m\u001b[0mcopy\u001b[0m\u001b[0;34m(\u001b[0m\u001b[0;34m)\u001b[0m\u001b[0;34m)\u001b[0m\u001b[0;34m\u001b[0m\u001b[0;34m\u001b[0m\u001b[0m\n\u001b[0m",
      "\u001b[0;32m<ipython-input-5-548a81fef983>\u001b[0m in \u001b[0;36mintcode_run\u001b[0;34m(inp, d)\u001b[0m\n\u001b[1;32m     29\u001b[0m             \u001b[0;32mif\u001b[0m \u001b[0mmodes\u001b[0m\u001b[0;34m[\u001b[0m\u001b[0;36m0\u001b[0m\u001b[0;34m]\u001b[0m \u001b[0;34m!=\u001b[0m \u001b[0;36m0\u001b[0m\u001b[0;34m:\u001b[0m\u001b[0;34m\u001b[0m\u001b[0;34m\u001b[0m\u001b[0m\n\u001b[1;32m     30\u001b[0m                 \u001b[0;32mraise\u001b[0m \u001b[0mValueError\u001b[0m\u001b[0;34m(\u001b[0m\u001b[0;34mf'output mode must be 0, but is {modes[0]}'\u001b[0m\u001b[0;34m)\u001b[0m\u001b[0;34m\u001b[0m\u001b[0;34m\u001b[0m\u001b[0m\n\u001b[0;32m---> 31\u001b[0;31m             \u001b[0md\u001b[0m\u001b[0;34m[\u001b[0m\u001b[0md\u001b[0m\u001b[0;34m[\u001b[0m\u001b[0mpos\u001b[0m\u001b[0;34m+\u001b[0m\u001b[0;36m1\u001b[0m\u001b[0;34m]\u001b[0m\u001b[0;34m]\u001b[0m \u001b[0;34m=\u001b[0m \u001b[0minp\u001b[0m\u001b[0;34m.\u001b[0m\u001b[0mpop\u001b[0m\u001b[0;34m(\u001b[0m\u001b[0;34m)\u001b[0m\u001b[0;34m\u001b[0m\u001b[0;34m\u001b[0m\u001b[0m\n\u001b[0m\u001b[1;32m     32\u001b[0m             \u001b[0mpos\u001b[0m \u001b[0;34m+=\u001b[0m \u001b[0;36m2\u001b[0m\u001b[0;34m\u001b[0m\u001b[0;34m\u001b[0m\u001b[0m\n\u001b[1;32m     33\u001b[0m         \u001b[0;32melif\u001b[0m \u001b[0mcode\u001b[0m \u001b[0;34m==\u001b[0m \u001b[0;36m4\u001b[0m\u001b[0;34m:\u001b[0m\u001b[0;34m\u001b[0m\u001b[0;34m\u001b[0m\u001b[0m\n",
      "\u001b[0;31mIndexError\u001b[0m: pop from empty list"
     ]
    }
   ],
   "source": [
    "intcode_run([112, 5], puzzle_prog.copy())"
   ]
  },
  {
   "cell_type": "markdown",
   "metadata": {},
   "source": [
    "Need to define I/O streams for each pair of amps,and also each amp need to intialize and run until halted, but blocking while waiting for input from the previous amp."
   ]
  },
  {
   "cell_type": "code",
   "execution_count": null,
   "metadata": {},
   "outputs": [],
   "source": []
  }
 ],
 "metadata": {
  "kernelspec": {
   "display_name": "Python 3",
   "language": "python",
   "name": "python3"
  },
  "language_info": {
   "codemirror_mode": {
    "name": "ipython",
    "version": 3
   },
   "file_extension": ".py",
   "mimetype": "text/x-python",
   "name": "python",
   "nbconvert_exporter": "python",
   "pygments_lexer": "ipython3",
   "version": "3.7.3"
  }
 },
 "nbformat": 4,
 "nbformat_minor": 4
}
