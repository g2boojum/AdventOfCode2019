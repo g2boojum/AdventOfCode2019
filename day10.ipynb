{
 "cells": [
  {
   "cell_type": "code",
   "execution_count": 1,
   "metadata": {},
   "outputs": [],
   "source": [
    "import math"
   ]
  },
  {
   "cell_type": "code",
   "execution_count": 2,
   "metadata": {},
   "outputs": [
    {
     "data": {
      "text/plain": [
       "'....#...####.#.#...........#........'"
      ]
     },
     "execution_count": 2,
     "metadata": {},
     "output_type": "execute_result"
    }
   ],
   "source": [
    "with open('day10.input') as fp:\n",
    "    puzzle_lines = fp.read().split('\\n')\n",
    "puzzle_lines[0]"
   ]
  },
  {
   "cell_type": "markdown",
   "metadata": {},
   "source": [
    "## Part 1 ##"
   ]
  },
  {
   "cell_type": "code",
   "execution_count": 3,
   "metadata": {},
   "outputs": [],
   "source": [
    "test1 = '''.#..#\n",
    ".....\n",
    "#####\n",
    "....#\n",
    "...##'''.split('\\n')\n",
    "test2 = '''......#.#.\n",
    "#..#.#....\n",
    "..#######.\n",
    ".#.#.###..\n",
    ".#..#.....\n",
    "..#....#.#\n",
    "#..#....#.\n",
    ".##.#..###\n",
    "##...#..#.\n",
    ".#....####'''.split('\\n')\n",
    "test3 = '''#.#...#.#.\n",
    ".###....#.\n",
    ".#....#...\n",
    "##.#.#.#.#\n",
    "....#.#.#.\n",
    ".##..###.#\n",
    "..#...##..\n",
    "..##....##\n",
    "......#...\n",
    ".####.###.'''.split('\\n')\n",
    "test4 = '''.#..#..###\n",
    "####.###.#\n",
    "....###.#.\n",
    "..###.##.#\n",
    "##.##.#.#.\n",
    "....###..#\n",
    "..#.#..#.#\n",
    "#..#.#.###\n",
    ".##...##.#\n",
    ".....#.#..'''.split('\\n')\n",
    "test5 = '''.#..##.###...#######\n",
    "##.############..##.\n",
    ".#.######.########.#\n",
    ".###.#######.####.#.\n",
    "#####.##.#.##.###.##\n",
    "..#####..#.#########\n",
    "####################\n",
    "#.####....###.#.#.##\n",
    "##.#################\n",
    "#####.##.###..####..\n",
    "..######..##.#######\n",
    "####.##.####...##..#\n",
    ".#####..#.######.###\n",
    "##...#.##########...\n",
    "#.##########.#######\n",
    ".####.#.###.###.#.##\n",
    "....##.##.###..#####\n",
    ".#.#.###########.###\n",
    "#.#.#.#####.####.###\n",
    "###.##.####.##.#..##'''.split('\\n')"
   ]
  },
  {
   "cell_type": "code",
   "execution_count": 4,
   "metadata": {},
   "outputs": [],
   "source": [
    "def get_locations(lines):\n",
    "    locations = []\n",
    "    for i, line in enumerate(lines):\n",
    "        for j, c in enumerate(line):\n",
    "            if c == '#':\n",
    "                locations.append((j, i))\n",
    "    return locations"
   ]
  },
  {
   "cell_type": "code",
   "execution_count": 5,
   "metadata": {},
   "outputs": [],
   "source": [
    "test1_locations = get_locations(test1)\n"
   ]
  },
  {
   "cell_type": "code",
   "execution_count": 6,
   "metadata": {},
   "outputs": [],
   "source": [
    "def num_seen(pt, field):\n",
    "    shifted = [(a[0] - pt[0], a[1] - pt[1]) for a in field if a != pt]\n",
    "    polar_angles = [math.atan2(pt[1], pt[0]) for pt in shifted]\n",
    "    return len(set(polar_angles))"
   ]
  },
  {
   "cell_type": "code",
   "execution_count": 7,
   "metadata": {},
   "outputs": [],
   "source": [
    "def find_best(asteroids):\n",
    "    max_seen = 0\n",
    "    for pt in asteroids:\n",
    "        seen = num_seen(pt, asteroids)\n",
    "        if seen > max_seen:\n",
    "            max_seen = seen\n",
    "            best_pos = pt\n",
    "    return (max_seen, best_pos)"
   ]
  },
  {
   "cell_type": "code",
   "execution_count": 8,
   "metadata": {},
   "outputs": [
    {
     "name": "stdout",
     "output_type": "stream",
     "text": [
      "8 (3, 4)\n",
      "33 (5, 8)\n",
      "35 (1, 2)\n",
      "41 (6, 3)\n",
      "210 (11, 13)\n"
     ]
    }
   ],
   "source": [
    "for tst in (test1, test2, test3, test4, test5):\n",
    "    seen, pos = find_best(get_locations(tst))\n",
    "    print(seen, pos)"
   ]
  },
  {
   "cell_type": "code",
   "execution_count": 9,
   "metadata": {},
   "outputs": [
    {
     "data": {
      "text/plain": [
       "(329, (25, 31))"
      ]
     },
     "execution_count": 9,
     "metadata": {},
     "output_type": "execute_result"
    }
   ],
   "source": [
    "puzzle_locations = get_locations(puzzle_lines)\n",
    "find_best(puzzle_locations)"
   ]
  },
  {
   "cell_type": "markdown",
   "metadata": {},
   "source": [
    "## Part 2 ##"
   ]
  },
  {
   "cell_type": "code",
   "execution_count": 10,
   "metadata": {},
   "outputs": [
    {
     "data": {
      "text/plain": [
       "36"
      ]
     },
     "execution_count": 10,
     "metadata": {},
     "output_type": "execute_result"
    }
   ],
   "source": [
    "test6 = '''.#....#####...#..\n",
    "##...##.#####..##\n",
    "##...#...#.#####.\n",
    "..#.....X...###..\n",
    "..#.#.....#....##'''.split('\\n')\n",
    "test6_locs = get_locations(test6)\n",
    "test6_origin = (8, 3)\n",
    "len(test6_locs)"
   ]
  },
  {
   "cell_type": "code",
   "execution_count": 11,
   "metadata": {},
   "outputs": [],
   "source": [
    "def vaporize(origin, field):\n",
    "    shifted = [(a[0] - origin[0], a[1] - origin[1]) for a in field if a != origin]\n",
    "    polar_coords = [(math.hypot(*pt), math.atan2(pt[1], pt[0])) for pt in shifted]\n",
    "    angle_dict = {}\n",
    "    for pt in polar_coords:\n",
    "        angle = pt[1]\n",
    "        if angle not in angle_dict:\n",
    "            angle_dict[angle] = [pt[0]]\n",
    "        else:\n",
    "            angle_dict[angle].append(pt[0])\n",
    "    angles = sorted(angle_dict.keys())\n",
    "    for angle in angles:\n",
    "        angle_dict[angle] = sorted(angle_dict[angle])\n",
    "    starting_idx = 0\n",
    "    for i, angle in enumerate(angles):\n",
    "        if angle >= -math.pi/2:\n",
    "            starting_idx = i\n",
    "            break\n",
    "    idx = starting_idx\n",
    "    while True:\n",
    "        if not angle_dict:\n",
    "            # no more angles left\n",
    "            break\n",
    "        angle = angles[idx]\n",
    "        nearest = angle_dict[angle].pop(0)\n",
    "        yield (nearest*math.cos(angle)+origin[0], nearest*math.sin(angle)+origin[1])\n",
    "        if not angle_dict[angle]:\n",
    "            # no more points along this angle\n",
    "            del angle_dict[angle]\n",
    "            angles.remove(angle)\n",
    "            idx -= 1\n",
    "        idx += 1\n",
    "        if idx == len(angles):\n",
    "            idx = 0\n",
    "        \n",
    "    "
   ]
  },
  {
   "cell_type": "code",
   "execution_count": 12,
   "metadata": {},
   "outputs": [
    {
     "name": "stdout",
     "output_type": "stream",
     "text": [
      "(8.0, 1.0)\n",
      "(9.0, 0.0)\n",
      "(9.0, 1.0)\n",
      "(10.0, 0.0)\n",
      "(9.0, 2.0)\n",
      "(11.0, 1.0000000000000004)\n",
      "(12.0, 1.0)\n",
      "(11.0, 2.0)\n",
      "(15.0, 1.0000000000000002)\n",
      "(12.0, 2.0)\n",
      "(13.0, 2.0)\n",
      "(14.0, 2.0)\n",
      "(15.0, 1.9999999999999998)\n",
      "(12.0, 3.0)\n",
      "(16.0, 4.0)\n",
      "(15.0, 4.0)\n",
      "(10.0, 4.0)\n",
      "(4.0, 4.000000000000001)\n",
      "(2.0, 4.000000000000001)\n",
      "(2.0, 3.000000000000001)\n",
      "(8.881784197001252e-16, 2.000000000000001)\n",
      "(1.0, 1.9999999999999984)\n",
      "(0.0, 0.9999999999999982)\n",
      "(1.0, 0.9999999999999987)\n",
      "(5.0, 1.9999999999999998)\n",
      "(0.9999999999999991, -8.881784197001252e-16)\n",
      "(5.0, 1.0)\n",
      "(6.0, 0.9999999999999996)\n",
      "(6.000000000000001, -4.440892098500626e-16)\n",
      "(7.0, 0.0)\n",
      "(8.0, 0.0)\n",
      "(10.0, 1.0)\n",
      "(14.0, 0.0)\n",
      "(16.0, 1.0)\n",
      "(13.0, 3.0)\n",
      "(14.0, 3.0)\n"
     ]
    }
   ],
   "source": [
    "for i, pt in enumerate(vaporize(test6_origin, test6_locs)):\n",
    "    print(pt)"
   ]
  },
  {
   "cell_type": "code",
   "execution_count": 13,
   "metadata": {},
   "outputs": [
    {
     "name": "stdout",
     "output_type": "stream",
     "text": [
      "801.9999999999999\n"
     ]
    }
   ],
   "source": [
    "test5_origin = (11, 13)\n",
    "for i, pt in enumerate(vaporize(test5_origin, get_locations(test5))):\n",
    "    if i+1 == 200:\n",
    "        print(100*pt[0]+pt[1])\n",
    "        break"
   ]
  },
  {
   "cell_type": "code",
   "execution_count": 14,
   "metadata": {},
   "outputs": [
    {
     "name": "stdout",
     "output_type": "stream",
     "text": [
      "511.99999999999966\n"
     ]
    }
   ],
   "source": [
    "puzzle_origin = (25, 31)\n",
    "for i, pt in enumerate(vaporize(puzzle_origin, puzzle_locations)):\n",
    "    if i+1 == 200:\n",
    "        print(100*pt[0]+pt[1])\n",
    "        break"
   ]
  },
  {
   "cell_type": "code",
   "execution_count": null,
   "metadata": {},
   "outputs": [],
   "source": []
  }
 ],
 "metadata": {
  "kernelspec": {
   "display_name": "Python 3",
   "language": "python",
   "name": "python3"
  },
  "language_info": {
   "codemirror_mode": {
    "name": "ipython",
    "version": 3
   },
   "file_extension": ".py",
   "mimetype": "text/x-python",
   "name": "python",
   "nbconvert_exporter": "python",
   "pygments_lexer": "ipython3",
   "version": "3.7.3"
  }
 },
 "nbformat": 4,
 "nbformat_minor": 4
}
