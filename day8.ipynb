{
 "cells": [
  {
   "cell_type": "code",
   "execution_count": 1,
   "metadata": {},
   "outputs": [],
   "source": [
    "import numpy as np"
   ]
  },
  {
   "cell_type": "code",
   "execution_count": 2,
   "metadata": {},
   "outputs": [],
   "source": [
    "with open('day8.input') as fp:\n",
    "    datastr = fp.read().strip()\n",
    "data = np.array([int(c) for c in datastr])"
   ]
  },
  {
   "cell_type": "markdown",
   "metadata": {},
   "source": [
    "## Part 1 ##"
   ]
  },
  {
   "cell_type": "code",
   "execution_count": 3,
   "metadata": {},
   "outputs": [],
   "source": [
    "nrows, ncols = 6, 25\n",
    "layer_size = nrows*ncols"
   ]
  },
  {
   "cell_type": "code",
   "execution_count": 4,
   "metadata": {},
   "outputs": [],
   "source": [
    "nlayers = data.size/layer_size\n",
    "if nlayers != int(nlayers):\n",
    "    raise ValueError(f'Not an integer number of layers: {nlayers}')\n",
    "nlayers = int(nlayers)\n",
    "data.shape = (nlayers, nrows, ncols)"
   ]
  },
  {
   "cell_type": "code",
   "execution_count": 5,
   "metadata": {},
   "outputs": [],
   "source": [
    "def count_val(arr, val):\n",
    "    return sum(1 for x in arr.ravel() if x == val)"
   ]
  },
  {
   "cell_type": "code",
   "execution_count": 6,
   "metadata": {},
   "outputs": [
    {
     "data": {
      "text/plain": [
       "1340"
      ]
     },
     "execution_count": 6,
     "metadata": {},
     "output_type": "execute_result"
    }
   ],
   "source": [
    "min_zeros_layer_num = np.argmin([count_val(data[i, :, :], 0) for i in range(nlayers)])\n",
    "min_zeros_layer = data[min_zeros_layer_num, :, :]\n",
    "count_val(min_zeros_layer, 1)*count_val(min_zeros_layer, 2)"
   ]
  },
  {
   "cell_type": "markdown",
   "metadata": {},
   "source": [
    "## Part 2 ##"
   ]
  },
  {
   "cell_type": "code",
   "execution_count": 7,
   "metadata": {},
   "outputs": [
    {
     "data": {
      "text/plain": [
       "array([0, 1, 2, 0])"
      ]
     },
     "execution_count": 7,
     "metadata": {},
     "output_type": "execute_result"
    }
   ],
   "source": [
    "test_data = np.array([int(c) for c in '0222112222120000'])\n",
    "test_data.shape = (4, 2, 2)\n",
    "test_data[:, 0, 0]"
   ]
  },
  {
   "cell_type": "code",
   "execution_count": 8,
   "metadata": {},
   "outputs": [],
   "source": [
    "def stack(arr):\n",
    "    nlayers, nrows, ncols = arr.shape\n",
    "    stacked_arr = np.ones((nrows, ncols)) + 1\n",
    "    for i in range(nrows):\n",
    "        for j in range(ncols):\n",
    "            pixel_stack = arr[:, i, j]\n",
    "            for pixel in pixel_stack:\n",
    "                if pixel == 2:\n",
    "                    continue\n",
    "                stacked_arr[i, j] = pixel\n",
    "                break\n",
    "    return stacked_arr\n",
    "    "
   ]
  },
  {
   "cell_type": "code",
   "execution_count": 9,
   "metadata": {},
   "outputs": [
    {
     "data": {
      "text/plain": [
       "array([[0., 1.],\n",
       "       [1., 0.]])"
      ]
     },
     "execution_count": 9,
     "metadata": {},
     "output_type": "execute_result"
    }
   ],
   "source": [
    "stack(test_data)"
   ]
  },
  {
   "cell_type": "code",
   "execution_count": 10,
   "metadata": {},
   "outputs": [
    {
     "name": "stdout",
     "output_type": "stream",
     "text": [
      "#    ####   ## #  #  ##  \n",
      "#    #       # # #  #  # \n",
      "#    ###     # ##   #    \n",
      "#    #       # # #  #    \n",
      "#    #    #  # # #  #  # \n",
      "#### ####  ##  #  #  ##  \n"
     ]
    }
   ],
   "source": [
    "stacked = stack(data)\n",
    "pt = {1: '#', 0: ' '}\n",
    "for i in range(nrows):\n",
    "    print(''.join([pt[x] for x in stacked[i, :]]))"
   ]
  },
  {
   "cell_type": "code",
   "execution_count": null,
   "metadata": {},
   "outputs": [],
   "source": []
  }
 ],
 "metadata": {
  "kernelspec": {
   "display_name": "Python 3",
   "language": "python",
   "name": "python3"
  },
  "language_info": {
   "codemirror_mode": {
    "name": "ipython",
    "version": 3
   },
   "file_extension": ".py",
   "mimetype": "text/x-python",
   "name": "python",
   "nbconvert_exporter": "python",
   "pygments_lexer": "ipython3",
   "version": "3.7.3"
  }
 },
 "nbformat": 4,
 "nbformat_minor": 4
}
